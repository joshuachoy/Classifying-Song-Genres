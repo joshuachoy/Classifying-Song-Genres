{
 "cells": [
  {
   "source": [
    "## Project Description\n",
    "The aim of this project is to train a classifier to distinguish songs between 2 different genres (Hip-hop & Rock) based only on track information."
   ],
   "cell_type": "markdown",
   "metadata": {}
  },
  {
   "cell_type": "code",
   "execution_count": 2,
   "metadata": {},
   "outputs": [],
   "source": [
    "import pandas as pd \n",
    "\n",
    "data = pd.read_csv('fma-rock-vs-hiphop.csv')\n",
    "echonest_metrics = pd.read_json('echonest-metrics.json', precise_float=True)"
   ]
  },
  {
   "cell_type": "code",
   "execution_count": 3,
   "metadata": {},
   "outputs": [
    {
     "output_type": "execute_result",
     "data": {
      "text/plain": [
       "   track_id  bit_rate  comments        composer         date_created  \\\n",
       "0       135    256000         1             NaN  2008-11-26 01:43:26   \n",
       "1       136    256000         1             NaN  2008-11-26 01:43:35   \n",
       "2       151    192000         0             NaN  2008-11-26 01:44:55   \n",
       "3       152    192000         0             NaN  2008-11-26 01:44:58   \n",
       "4       153    256000         0  Arc and Sender  2008-11-26 01:45:00   \n",
       "\n",
       "         date_recorded  duration  favorites genre_top    genres  ...  \\\n",
       "0  2008-11-26 00:00:00       837          0      Rock  [45, 58]  ...   \n",
       "1  2008-11-26 00:00:00       509          0      Rock  [45, 58]  ...   \n",
       "2                  NaN       192          0      Rock      [25]  ...   \n",
       "3                  NaN       193          0      Rock      [25]  ...   \n",
       "4  2008-11-26 00:00:00       405          5      Rock      [26]  ...   \n",
       "\n",
       "  information interest  language_code  \\\n",
       "0         NaN     2484             en   \n",
       "1         NaN     1948             en   \n",
       "2         NaN      701             en   \n",
       "3         NaN      637             en   \n",
       "4         NaN      354             en   \n",
       "\n",
       "                                             license listens  lyricist number  \\\n",
       "0  Attribution-NonCommercial-ShareAlike 3.0 Inter...    1832       NaN      0   \n",
       "1  Attribution-NonCommercial-ShareAlike 3.0 Inter...    1498       NaN      0   \n",
       "2  Attribution-NonCommercial-ShareAlike 3.0 Inter...     148       NaN      4   \n",
       "3  Attribution-NonCommercial-ShareAlike 3.0 Inter...      98       NaN     11   \n",
       "4  Attribution-NonCommercial-NoDerivatives (aka M...     424       NaN      2   \n",
       "\n",
       "   publisher tags                       title  \n",
       "0        NaN   []                Father's Day  \n",
       "1        NaN   []  Peel Back The Mountain Sky  \n",
       "2        NaN   []                 Untitled 04  \n",
       "3        NaN   []                 Untitled 11  \n",
       "4        NaN   []          Hundred-Year Flood  \n",
       "\n",
       "[5 rows x 21 columns]"
      ],
      "text/html": "<div>\n<style scoped>\n    .dataframe tbody tr th:only-of-type {\n        vertical-align: middle;\n    }\n\n    .dataframe tbody tr th {\n        vertical-align: top;\n    }\n\n    .dataframe thead th {\n        text-align: right;\n    }\n</style>\n<table border=\"1\" class=\"dataframe\">\n  <thead>\n    <tr style=\"text-align: right;\">\n      <th></th>\n      <th>track_id</th>\n      <th>bit_rate</th>\n      <th>comments</th>\n      <th>composer</th>\n      <th>date_created</th>\n      <th>date_recorded</th>\n      <th>duration</th>\n      <th>favorites</th>\n      <th>genre_top</th>\n      <th>genres</th>\n      <th>...</th>\n      <th>information</th>\n      <th>interest</th>\n      <th>language_code</th>\n      <th>license</th>\n      <th>listens</th>\n      <th>lyricist</th>\n      <th>number</th>\n      <th>publisher</th>\n      <th>tags</th>\n      <th>title</th>\n    </tr>\n  </thead>\n  <tbody>\n    <tr>\n      <th>0</th>\n      <td>135</td>\n      <td>256000</td>\n      <td>1</td>\n      <td>NaN</td>\n      <td>2008-11-26 01:43:26</td>\n      <td>2008-11-26 00:00:00</td>\n      <td>837</td>\n      <td>0</td>\n      <td>Rock</td>\n      <td>[45, 58]</td>\n      <td>...</td>\n      <td>NaN</td>\n      <td>2484</td>\n      <td>en</td>\n      <td>Attribution-NonCommercial-ShareAlike 3.0 Inter...</td>\n      <td>1832</td>\n      <td>NaN</td>\n      <td>0</td>\n      <td>NaN</td>\n      <td>[]</td>\n      <td>Father's Day</td>\n    </tr>\n    <tr>\n      <th>1</th>\n      <td>136</td>\n      <td>256000</td>\n      <td>1</td>\n      <td>NaN</td>\n      <td>2008-11-26 01:43:35</td>\n      <td>2008-11-26 00:00:00</td>\n      <td>509</td>\n      <td>0</td>\n      <td>Rock</td>\n      <td>[45, 58]</td>\n      <td>...</td>\n      <td>NaN</td>\n      <td>1948</td>\n      <td>en</td>\n      <td>Attribution-NonCommercial-ShareAlike 3.0 Inter...</td>\n      <td>1498</td>\n      <td>NaN</td>\n      <td>0</td>\n      <td>NaN</td>\n      <td>[]</td>\n      <td>Peel Back The Mountain Sky</td>\n    </tr>\n    <tr>\n      <th>2</th>\n      <td>151</td>\n      <td>192000</td>\n      <td>0</td>\n      <td>NaN</td>\n      <td>2008-11-26 01:44:55</td>\n      <td>NaN</td>\n      <td>192</td>\n      <td>0</td>\n      <td>Rock</td>\n      <td>[25]</td>\n      <td>...</td>\n      <td>NaN</td>\n      <td>701</td>\n      <td>en</td>\n      <td>Attribution-NonCommercial-ShareAlike 3.0 Inter...</td>\n      <td>148</td>\n      <td>NaN</td>\n      <td>4</td>\n      <td>NaN</td>\n      <td>[]</td>\n      <td>Untitled 04</td>\n    </tr>\n    <tr>\n      <th>3</th>\n      <td>152</td>\n      <td>192000</td>\n      <td>0</td>\n      <td>NaN</td>\n      <td>2008-11-26 01:44:58</td>\n      <td>NaN</td>\n      <td>193</td>\n      <td>0</td>\n      <td>Rock</td>\n      <td>[25]</td>\n      <td>...</td>\n      <td>NaN</td>\n      <td>637</td>\n      <td>en</td>\n      <td>Attribution-NonCommercial-ShareAlike 3.0 Inter...</td>\n      <td>98</td>\n      <td>NaN</td>\n      <td>11</td>\n      <td>NaN</td>\n      <td>[]</td>\n      <td>Untitled 11</td>\n    </tr>\n    <tr>\n      <th>4</th>\n      <td>153</td>\n      <td>256000</td>\n      <td>0</td>\n      <td>Arc and Sender</td>\n      <td>2008-11-26 01:45:00</td>\n      <td>2008-11-26 00:00:00</td>\n      <td>405</td>\n      <td>5</td>\n      <td>Rock</td>\n      <td>[26]</td>\n      <td>...</td>\n      <td>NaN</td>\n      <td>354</td>\n      <td>en</td>\n      <td>Attribution-NonCommercial-NoDerivatives (aka M...</td>\n      <td>424</td>\n      <td>NaN</td>\n      <td>2</td>\n      <td>NaN</td>\n      <td>[]</td>\n      <td>Hundred-Year Flood</td>\n    </tr>\n  </tbody>\n</table>\n<p>5 rows × 21 columns</p>\n</div>"
     },
     "metadata": {},
     "execution_count": 3
    }
   ],
   "source": [
    "data.head()"
   ]
  },
  {
   "cell_type": "code",
   "execution_count": 4,
   "metadata": {},
   "outputs": [
    {
     "output_type": "execute_result",
     "data": {
      "text/plain": [
       "   track_id  acousticness  danceability    energy  instrumentalness  liveness  \\\n",
       "0         2      0.416675      0.675894  0.634476          0.010628  0.177647   \n",
       "1         3      0.374408      0.528643  0.817461          0.001851  0.105880   \n",
       "2         5      0.043567      0.745566  0.701470          0.000697  0.373143   \n",
       "3        10      0.951670      0.658179  0.924525          0.965427  0.115474   \n",
       "4       134      0.452217      0.513238  0.560410          0.019443  0.096567   \n",
       "\n",
       "   speechiness    tempo   valence  \n",
       "0     0.159310  165.922  0.576661  \n",
       "1     0.461818  126.957  0.269240  \n",
       "2     0.124595  100.260  0.621661  \n",
       "3     0.032985  111.562  0.963590  \n",
       "4     0.525519  114.290  0.894072  "
      ],
      "text/html": "<div>\n<style scoped>\n    .dataframe tbody tr th:only-of-type {\n        vertical-align: middle;\n    }\n\n    .dataframe tbody tr th {\n        vertical-align: top;\n    }\n\n    .dataframe thead th {\n        text-align: right;\n    }\n</style>\n<table border=\"1\" class=\"dataframe\">\n  <thead>\n    <tr style=\"text-align: right;\">\n      <th></th>\n      <th>track_id</th>\n      <th>acousticness</th>\n      <th>danceability</th>\n      <th>energy</th>\n      <th>instrumentalness</th>\n      <th>liveness</th>\n      <th>speechiness</th>\n      <th>tempo</th>\n      <th>valence</th>\n    </tr>\n  </thead>\n  <tbody>\n    <tr>\n      <th>0</th>\n      <td>2</td>\n      <td>0.416675</td>\n      <td>0.675894</td>\n      <td>0.634476</td>\n      <td>0.010628</td>\n      <td>0.177647</td>\n      <td>0.159310</td>\n      <td>165.922</td>\n      <td>0.576661</td>\n    </tr>\n    <tr>\n      <th>1</th>\n      <td>3</td>\n      <td>0.374408</td>\n      <td>0.528643</td>\n      <td>0.817461</td>\n      <td>0.001851</td>\n      <td>0.105880</td>\n      <td>0.461818</td>\n      <td>126.957</td>\n      <td>0.269240</td>\n    </tr>\n    <tr>\n      <th>2</th>\n      <td>5</td>\n      <td>0.043567</td>\n      <td>0.745566</td>\n      <td>0.701470</td>\n      <td>0.000697</td>\n      <td>0.373143</td>\n      <td>0.124595</td>\n      <td>100.260</td>\n      <td>0.621661</td>\n    </tr>\n    <tr>\n      <th>3</th>\n      <td>10</td>\n      <td>0.951670</td>\n      <td>0.658179</td>\n      <td>0.924525</td>\n      <td>0.965427</td>\n      <td>0.115474</td>\n      <td>0.032985</td>\n      <td>111.562</td>\n      <td>0.963590</td>\n    </tr>\n    <tr>\n      <th>4</th>\n      <td>134</td>\n      <td>0.452217</td>\n      <td>0.513238</td>\n      <td>0.560410</td>\n      <td>0.019443</td>\n      <td>0.096567</td>\n      <td>0.525519</td>\n      <td>114.290</td>\n      <td>0.894072</td>\n    </tr>\n  </tbody>\n</table>\n</div>"
     },
     "metadata": {},
     "execution_count": 4
    }
   ],
   "source": [
    "echonest_metrics.head()"
   ]
  },
  {
   "cell_type": "code",
   "execution_count": 7,
   "metadata": {},
   "outputs": [
    {
     "output_type": "execute_result",
     "data": {
      "text/plain": [
       "   track_id genre_top  acousticness  danceability    energy  instrumentalness  \\\n",
       "0       153      Rock      0.988306      0.255661  0.979774          0.973006   \n",
       "1       154      Rock      0.970135      0.352946  0.023852          0.957113   \n",
       "2       155      Rock      0.981657      0.142249  0.912122          0.967294   \n",
       "3       169      Rock      0.989141      0.225978  0.722835          0.263076   \n",
       "4       170      Rock      0.886660      0.298518  0.744333          0.920950   \n",
       "\n",
       "   liveness  speechiness   tempo   valence  \n",
       "0  0.121342     0.051740  90.241  0.034018  \n",
       "1  0.113261     0.032177  53.758  0.035632  \n",
       "2  0.363510     0.087527  91.912  0.034325  \n",
       "3  0.092371     0.053406  94.322  0.028347  \n",
       "4  0.139587     0.088781  97.880  0.073548  "
      ],
      "text/html": "<div>\n<style scoped>\n    .dataframe tbody tr th:only-of-type {\n        vertical-align: middle;\n    }\n\n    .dataframe tbody tr th {\n        vertical-align: top;\n    }\n\n    .dataframe thead th {\n        text-align: right;\n    }\n</style>\n<table border=\"1\" class=\"dataframe\">\n  <thead>\n    <tr style=\"text-align: right;\">\n      <th></th>\n      <th>track_id</th>\n      <th>genre_top</th>\n      <th>acousticness</th>\n      <th>danceability</th>\n      <th>energy</th>\n      <th>instrumentalness</th>\n      <th>liveness</th>\n      <th>speechiness</th>\n      <th>tempo</th>\n      <th>valence</th>\n    </tr>\n  </thead>\n  <tbody>\n    <tr>\n      <th>0</th>\n      <td>153</td>\n      <td>Rock</td>\n      <td>0.988306</td>\n      <td>0.255661</td>\n      <td>0.979774</td>\n      <td>0.973006</td>\n      <td>0.121342</td>\n      <td>0.051740</td>\n      <td>90.241</td>\n      <td>0.034018</td>\n    </tr>\n    <tr>\n      <th>1</th>\n      <td>154</td>\n      <td>Rock</td>\n      <td>0.970135</td>\n      <td>0.352946</td>\n      <td>0.023852</td>\n      <td>0.957113</td>\n      <td>0.113261</td>\n      <td>0.032177</td>\n      <td>53.758</td>\n      <td>0.035632</td>\n    </tr>\n    <tr>\n      <th>2</th>\n      <td>155</td>\n      <td>Rock</td>\n      <td>0.981657</td>\n      <td>0.142249</td>\n      <td>0.912122</td>\n      <td>0.967294</td>\n      <td>0.363510</td>\n      <td>0.087527</td>\n      <td>91.912</td>\n      <td>0.034325</td>\n    </tr>\n    <tr>\n      <th>3</th>\n      <td>169</td>\n      <td>Rock</td>\n      <td>0.989141</td>\n      <td>0.225978</td>\n      <td>0.722835</td>\n      <td>0.263076</td>\n      <td>0.092371</td>\n      <td>0.053406</td>\n      <td>94.322</td>\n      <td>0.028347</td>\n    </tr>\n    <tr>\n      <th>4</th>\n      <td>170</td>\n      <td>Rock</td>\n      <td>0.886660</td>\n      <td>0.298518</td>\n      <td>0.744333</td>\n      <td>0.920950</td>\n      <td>0.139587</td>\n      <td>0.088781</td>\n      <td>97.880</td>\n      <td>0.073548</td>\n    </tr>\n  </tbody>\n</table>\n</div>"
     },
     "metadata": {},
     "execution_count": 7
    }
   ],
   "source": [
    "# merge data based on track_id from track data to echonest_metrics\n",
    "echo_data = pd.merge(left=data[['track_id', 'genre_top']], right=echonest_metrics, on='track_id')\n",
    "echo_data.head()"
   ]
  },
  {
   "cell_type": "code",
   "execution_count": 8,
   "metadata": {},
   "outputs": [
    {
     "output_type": "stream",
     "name": "stdout",
     "text": [
      "<class 'pandas.core.frame.DataFrame'>\nInt64Index: 4802 entries, 0 to 4801\nData columns (total 10 columns):\n #   Column            Non-Null Count  Dtype  \n---  ------            --------------  -----  \n 0   track_id          4802 non-null   int64  \n 1   genre_top         4802 non-null   object \n 2   acousticness      4802 non-null   float64\n 3   danceability      4802 non-null   float64\n 4   energy            4802 non-null   float64\n 5   instrumentalness  4802 non-null   float64\n 6   liveness          4802 non-null   float64\n 7   speechiness       4802 non-null   float64\n 8   tempo             4802 non-null   float64\n 9   valence           4802 non-null   float64\ndtypes: float64(8), int64(1), object(1)\nmemory usage: 572.7+ KB\n"
     ]
    }
   ],
   "source": [
    "echo_data.info()"
   ]
  },
  {
   "cell_type": "code",
   "execution_count": 9,
   "metadata": {},
   "outputs": [
    {
     "output_type": "execute_result",
     "data": {
      "text/plain": [
       "<pandas.io.formats.style.Styler at 0x1ba3df055b0>"
      ],
      "text/html": "<style  type=\"text/css\" >\n    #T_d622ceee_4dd0_11eb_96b6_8cc6811686cbrow0_col0 {\n            background-color:  #023858;\n            color:  #f1f1f1;\n        }    #T_d622ceee_4dd0_11eb_96b6_8cc6811686cbrow0_col1 {\n            background-color:  #fff7fb;\n            color:  #000000;\n        }    #T_d622ceee_4dd0_11eb_96b6_8cc6811686cbrow0_col2 {\n            background-color:  #d2d2e7;\n            color:  #000000;\n        }    #T_d622ceee_4dd0_11eb_96b6_8cc6811686cbrow0_col3 {\n            background-color:  #b5c4df;\n            color:  #000000;\n        }    #T_d622ceee_4dd0_11eb_96b6_8cc6811686cbrow0_col4 {\n            background-color:  #f5eef6;\n            color:  #000000;\n        }    #T_d622ceee_4dd0_11eb_96b6_8cc6811686cbrow0_col5 {\n            background-color:  #e9e5f1;\n            color:  #000000;\n        }    #T_d622ceee_4dd0_11eb_96b6_8cc6811686cbrow0_col6 {\n            background-color:  #d1d2e6;\n            color:  #000000;\n        }    #T_d622ceee_4dd0_11eb_96b6_8cc6811686cbrow0_col7 {\n            background-color:  #e1dfed;\n            color:  #000000;\n        }    #T_d622ceee_4dd0_11eb_96b6_8cc6811686cbrow0_col8 {\n            background-color:  #dedcec;\n            color:  #000000;\n        }    #T_d622ceee_4dd0_11eb_96b6_8cc6811686cbrow1_col0 {\n            background-color:  #fff7fb;\n            color:  #000000;\n        }    #T_d622ceee_4dd0_11eb_96b6_8cc6811686cbrow1_col1 {\n            background-color:  #023858;\n            color:  #f1f1f1;\n        }    #T_d622ceee_4dd0_11eb_96b6_8cc6811686cbrow1_col2 {\n            background-color:  #e0dded;\n            color:  #000000;\n        }    #T_d622ceee_4dd0_11eb_96b6_8cc6811686cbrow1_col3 {\n            background-color:  #fff7fb;\n            color:  #000000;\n        }    #T_d622ceee_4dd0_11eb_96b6_8cc6811686cbrow1_col4 {\n            background-color:  #97b7d7;\n            color:  #000000;\n        }    #T_d622ceee_4dd0_11eb_96b6_8cc6811686cbrow1_col5 {\n            background-color:  #f3edf5;\n            color:  #000000;\n        }    #T_d622ceee_4dd0_11eb_96b6_8cc6811686cbrow1_col6 {\n            background-color:  #b8c6e0;\n            color:  #000000;\n        }    #T_d622ceee_4dd0_11eb_96b6_8cc6811686cbrow1_col7 {\n            background-color:  #e1dfed;\n            color:  #000000;\n        }    #T_d622ceee_4dd0_11eb_96b6_8cc6811686cbrow1_col8 {\n            background-color:  #e2dfee;\n            color:  #000000;\n        }    #T_d622ceee_4dd0_11eb_96b6_8cc6811686cbrow2_col0 {\n            background-color:  #bdc8e1;\n            color:  #000000;\n        }    #T_d622ceee_4dd0_11eb_96b6_8cc6811686cbrow2_col1 {\n            background-color:  #d0d1e6;\n            color:  #000000;\n        }    #T_d622ceee_4dd0_11eb_96b6_8cc6811686cbrow2_col2 {\n            background-color:  #023858;\n            color:  #f1f1f1;\n        }    #T_d622ceee_4dd0_11eb_96b6_8cc6811686cbrow2_col3 {\n            background-color:  #fbf3f9;\n            color:  #000000;\n        }    #T_d622ceee_4dd0_11eb_96b6_8cc6811686cbrow2_col4 {\n            background-color:  #f3edf5;\n            color:  #000000;\n        }    #T_d622ceee_4dd0_11eb_96b6_8cc6811686cbrow2_col5 {\n            background-color:  #fff7fb;\n            color:  #000000;\n        }    #T_d622ceee_4dd0_11eb_96b6_8cc6811686cbrow2_col6 {\n            background-color:  #80aed2;\n            color:  #000000;\n        }    #T_d622ceee_4dd0_11eb_96b6_8cc6811686cbrow2_col7 {\n            background-color:  #fff7fb;\n            color:  #000000;\n        }    #T_d622ceee_4dd0_11eb_96b6_8cc6811686cbrow2_col8 {\n            background-color:  #529bc7;\n            color:  #000000;\n        }    #T_d622ceee_4dd0_11eb_96b6_8cc6811686cbrow3_col0 {\n            background-color:  #a7bddb;\n            color:  #000000;\n        }    #T_d622ceee_4dd0_11eb_96b6_8cc6811686cbrow3_col1 {\n            background-color:  #f5eff6;\n            color:  #000000;\n        }    #T_d622ceee_4dd0_11eb_96b6_8cc6811686cbrow3_col2 {\n            background-color:  #fef6fa;\n            color:  #000000;\n        }    #T_d622ceee_4dd0_11eb_96b6_8cc6811686cbrow3_col3 {\n            background-color:  #023858;\n            color:  #f1f1f1;\n        }    #T_d622ceee_4dd0_11eb_96b6_8cc6811686cbrow3_col4 {\n            background-color:  #c4cbe3;\n            color:  #000000;\n        }    #T_d622ceee_4dd0_11eb_96b6_8cc6811686cbrow3_col5 {\n            background-color:  #dcdaeb;\n            color:  #000000;\n        }    #T_d622ceee_4dd0_11eb_96b6_8cc6811686cbrow3_col6 {\n            background-color:  #dedcec;\n            color:  #000000;\n        }    #T_d622ceee_4dd0_11eb_96b6_8cc6811686cbrow3_col7 {\n            background-color:  #adc1dd;\n            color:  #000000;\n        }    #T_d622ceee_4dd0_11eb_96b6_8cc6811686cbrow3_col8 {\n            background-color:  #d9d8ea;\n            color:  #000000;\n        }    #T_d622ceee_4dd0_11eb_96b6_8cc6811686cbrow4_col0 {\n            background-color:  #f4eef6;\n            color:  #000000;\n        }    #T_d622ceee_4dd0_11eb_96b6_8cc6811686cbrow4_col1 {\n            background-color:  #97b7d7;\n            color:  #000000;\n        }    #T_d622ceee_4dd0_11eb_96b6_8cc6811686cbrow4_col2 {\n            background-color:  #fff7fb;\n            color:  #000000;\n        }    #T_d622ceee_4dd0_11eb_96b6_8cc6811686cbrow4_col3 {\n            background-color:  #d2d3e7;\n            color:  #000000;\n        }    #T_d622ceee_4dd0_11eb_96b6_8cc6811686cbrow4_col4 {\n            background-color:  #023858;\n            color:  #f1f1f1;\n        }    #T_d622ceee_4dd0_11eb_96b6_8cc6811686cbrow4_col5 {\n            background-color:  #fdf5fa;\n            color:  #000000;\n        }    #T_d622ceee_4dd0_11eb_96b6_8cc6811686cbrow4_col6 {\n            background-color:  #fff7fb;\n            color:  #000000;\n        }    #T_d622ceee_4dd0_11eb_96b6_8cc6811686cbrow4_col7 {\n            background-color:  #d9d8ea;\n            color:  #000000;\n        }    #T_d622ceee_4dd0_11eb_96b6_8cc6811686cbrow4_col8 {\n            background-color:  #fff7fb;\n            color:  #000000;\n        }    #T_d622ceee_4dd0_11eb_96b6_8cc6811686cbrow5_col0 {\n            background-color:  #bdc8e1;\n            color:  #000000;\n        }    #T_d622ceee_4dd0_11eb_96b6_8cc6811686cbrow5_col1 {\n            background-color:  #ced0e6;\n            color:  #000000;\n        }    #T_d622ceee_4dd0_11eb_96b6_8cc6811686cbrow5_col2 {\n            background-color:  #ede8f3;\n            color:  #000000;\n        }    #T_d622ceee_4dd0_11eb_96b6_8cc6811686cbrow5_col3 {\n            background-color:  #bdc8e1;\n            color:  #000000;\n        }    #T_d622ceee_4dd0_11eb_96b6_8cc6811686cbrow5_col4 {\n            background-color:  #dbdaeb;\n            color:  #000000;\n        }    #T_d622ceee_4dd0_11eb_96b6_8cc6811686cbrow5_col5 {\n            background-color:  #023858;\n            color:  #f1f1f1;\n        }    #T_d622ceee_4dd0_11eb_96b6_8cc6811686cbrow5_col6 {\n            background-color:  #c0c9e2;\n            color:  #000000;\n        }    #T_d622ceee_4dd0_11eb_96b6_8cc6811686cbrow5_col7 {\n            background-color:  #dcdaeb;\n            color:  #000000;\n        }    #T_d622ceee_4dd0_11eb_96b6_8cc6811686cbrow5_col8 {\n            background-color:  #e8e4f0;\n            color:  #000000;\n        }    #T_d622ceee_4dd0_11eb_96b6_8cc6811686cbrow6_col0 {\n            background-color:  #d0d1e6;\n            color:  #000000;\n        }    #T_d622ceee_4dd0_11eb_96b6_8cc6811686cbrow6_col1 {\n            background-color:  #b8c6e0;\n            color:  #000000;\n        }    #T_d622ceee_4dd0_11eb_96b6_8cc6811686cbrow6_col2 {\n            background-color:  #93b5d6;\n            color:  #000000;\n        }    #T_d622ceee_4dd0_11eb_96b6_8cc6811686cbrow6_col3 {\n            background-color:  #eae6f1;\n            color:  #000000;\n        }    #T_d622ceee_4dd0_11eb_96b6_8cc6811686cbrow6_col4 {\n            background-color:  #fff7fb;\n            color:  #000000;\n        }    #T_d622ceee_4dd0_11eb_96b6_8cc6811686cbrow6_col5 {\n            background-color:  #eae6f1;\n            color:  #000000;\n        }    #T_d622ceee_4dd0_11eb_96b6_8cc6811686cbrow6_col6 {\n            background-color:  #023858;\n            color:  #f1f1f1;\n        }    #T_d622ceee_4dd0_11eb_96b6_8cc6811686cbrow6_col7 {\n            background-color:  #dbdaeb;\n            color:  #000000;\n        }    #T_d622ceee_4dd0_11eb_96b6_8cc6811686cbrow6_col8 {\n            background-color:  #bfc9e1;\n            color:  #000000;\n        }    #T_d622ceee_4dd0_11eb_96b6_8cc6811686cbrow7_col0 {\n            background-color:  #d0d1e6;\n            color:  #000000;\n        }    #T_d622ceee_4dd0_11eb_96b6_8cc6811686cbrow7_col1 {\n            background-color:  #d0d1e6;\n            color:  #000000;\n        }    #T_d622ceee_4dd0_11eb_96b6_8cc6811686cbrow7_col2 {\n            background-color:  #fef6fa;\n            color:  #000000;\n        }    #T_d622ceee_4dd0_11eb_96b6_8cc6811686cbrow7_col3 {\n            background-color:  #a7bddb;\n            color:  #000000;\n        }    #T_d622ceee_4dd0_11eb_96b6_8cc6811686cbrow7_col4 {\n            background-color:  #c5cce3;\n            color:  #000000;\n        }    #T_d622ceee_4dd0_11eb_96b6_8cc6811686cbrow7_col5 {\n            background-color:  #f0eaf4;\n            color:  #000000;\n        }    #T_d622ceee_4dd0_11eb_96b6_8cc6811686cbrow7_col6 {\n            background-color:  #c8cde4;\n            color:  #000000;\n        }    #T_d622ceee_4dd0_11eb_96b6_8cc6811686cbrow7_col7 {\n            background-color:  #023858;\n            color:  #f1f1f1;\n        }    #T_d622ceee_4dd0_11eb_96b6_8cc6811686cbrow7_col8 {\n            background-color:  #d6d6e9;\n            color:  #000000;\n        }    #T_d622ceee_4dd0_11eb_96b6_8cc6811686cbrow8_col0 {\n            background-color:  #c6cce3;\n            color:  #000000;\n        }    #T_d622ceee_4dd0_11eb_96b6_8cc6811686cbrow8_col1 {\n            background-color:  #cdd0e5;\n            color:  #000000;\n        }    #T_d622ceee_4dd0_11eb_96b6_8cc6811686cbrow8_col2 {\n            background-color:  #4c99c5;\n            color:  #000000;\n        }    #T_d622ceee_4dd0_11eb_96b6_8cc6811686cbrow8_col3 {\n            background-color:  #d1d2e6;\n            color:  #000000;\n        }    #T_d622ceee_4dd0_11eb_96b6_8cc6811686cbrow8_col4 {\n            background-color:  #efe9f3;\n            color:  #000000;\n        }    #T_d622ceee_4dd0_11eb_96b6_8cc6811686cbrow8_col5 {\n            background-color:  #f7f0f7;\n            color:  #000000;\n        }    #T_d622ceee_4dd0_11eb_96b6_8cc6811686cbrow8_col6 {\n            background-color:  #a5bddb;\n            color:  #000000;\n        }    #T_d622ceee_4dd0_11eb_96b6_8cc6811686cbrow8_col7 {\n            background-color:  #d3d4e7;\n            color:  #000000;\n        }    #T_d622ceee_4dd0_11eb_96b6_8cc6811686cbrow8_col8 {\n            background-color:  #023858;\n            color:  #f1f1f1;\n        }</style><table id=\"T_d622ceee_4dd0_11eb_96b6_8cc6811686cb\" ><thead>    <tr>        <th class=\"blank level0\" ></th>        <th class=\"col_heading level0 col0\" >track_id</th>        <th class=\"col_heading level0 col1\" >acousticness</th>        <th class=\"col_heading level0 col2\" >danceability</th>        <th class=\"col_heading level0 col3\" >energy</th>        <th class=\"col_heading level0 col4\" >instrumentalness</th>        <th class=\"col_heading level0 col5\" >liveness</th>        <th class=\"col_heading level0 col6\" >speechiness</th>        <th class=\"col_heading level0 col7\" >tempo</th>        <th class=\"col_heading level0 col8\" >valence</th>    </tr></thead><tbody>\n                <tr>\n                        <th id=\"T_d622ceee_4dd0_11eb_96b6_8cc6811686cblevel0_row0\" class=\"row_heading level0 row0\" >track_id</th>\n                        <td id=\"T_d622ceee_4dd0_11eb_96b6_8cc6811686cbrow0_col0\" class=\"data row0 col0\" >1.000000</td>\n                        <td id=\"T_d622ceee_4dd0_11eb_96b6_8cc6811686cbrow0_col1\" class=\"data row0 col1\" >-0.372282</td>\n                        <td id=\"T_d622ceee_4dd0_11eb_96b6_8cc6811686cbrow0_col2\" class=\"data row0 col2\" >0.049454</td>\n                        <td id=\"T_d622ceee_4dd0_11eb_96b6_8cc6811686cbrow0_col3\" class=\"data row0 col3\" >0.140703</td>\n                        <td id=\"T_d622ceee_4dd0_11eb_96b6_8cc6811686cbrow0_col4\" class=\"data row0 col4\" >-0.275623</td>\n                        <td id=\"T_d622ceee_4dd0_11eb_96b6_8cc6811686cbrow0_col5\" class=\"data row0 col5\" >0.048231</td>\n                        <td id=\"T_d622ceee_4dd0_11eb_96b6_8cc6811686cbrow0_col6\" class=\"data row0 col6\" >-0.026995</td>\n                        <td id=\"T_d622ceee_4dd0_11eb_96b6_8cc6811686cbrow0_col7\" class=\"data row0 col7\" >-0.025392</td>\n                        <td id=\"T_d622ceee_4dd0_11eb_96b6_8cc6811686cbrow0_col8\" class=\"data row0 col8\" >0.010070</td>\n            </tr>\n            <tr>\n                        <th id=\"T_d622ceee_4dd0_11eb_96b6_8cc6811686cblevel0_row1\" class=\"row_heading level0 row1\" >acousticness</th>\n                        <td id=\"T_d622ceee_4dd0_11eb_96b6_8cc6811686cbrow1_col0\" class=\"data row1 col0\" >-0.372282</td>\n                        <td id=\"T_d622ceee_4dd0_11eb_96b6_8cc6811686cbrow1_col1\" class=\"data row1 col1\" >1.000000</td>\n                        <td id=\"T_d622ceee_4dd0_11eb_96b6_8cc6811686cbrow1_col2\" class=\"data row1 col2\" >-0.028954</td>\n                        <td id=\"T_d622ceee_4dd0_11eb_96b6_8cc6811686cbrow1_col3\" class=\"data row1 col3\" >-0.281619</td>\n                        <td id=\"T_d622ceee_4dd0_11eb_96b6_8cc6811686cbrow1_col4\" class=\"data row1 col4\" >0.194780</td>\n                        <td id=\"T_d622ceee_4dd0_11eb_96b6_8cc6811686cbrow1_col5\" class=\"data row1 col5\" >-0.019991</td>\n                        <td id=\"T_d622ceee_4dd0_11eb_96b6_8cc6811686cbrow1_col6\" class=\"data row1 col6\" >0.072204</td>\n                        <td id=\"T_d622ceee_4dd0_11eb_96b6_8cc6811686cbrow1_col7\" class=\"data row1 col7\" >-0.026310</td>\n                        <td id=\"T_d622ceee_4dd0_11eb_96b6_8cc6811686cbrow1_col8\" class=\"data row1 col8\" >-0.013841</td>\n            </tr>\n            <tr>\n                        <th id=\"T_d622ceee_4dd0_11eb_96b6_8cc6811686cblevel0_row2\" class=\"row_heading level0 row2\" >danceability</th>\n                        <td id=\"T_d622ceee_4dd0_11eb_96b6_8cc6811686cbrow2_col0\" class=\"data row2 col0\" >0.049454</td>\n                        <td id=\"T_d622ceee_4dd0_11eb_96b6_8cc6811686cbrow2_col1\" class=\"data row2 col1\" >-0.028954</td>\n                        <td id=\"T_d622ceee_4dd0_11eb_96b6_8cc6811686cbrow2_col2\" class=\"data row2 col2\" >1.000000</td>\n                        <td id=\"T_d622ceee_4dd0_11eb_96b6_8cc6811686cbrow2_col3\" class=\"data row2 col3\" >-0.242032</td>\n                        <td id=\"T_d622ceee_4dd0_11eb_96b6_8cc6811686cbrow2_col4\" class=\"data row2 col4\" >-0.255217</td>\n                        <td id=\"T_d622ceee_4dd0_11eb_96b6_8cc6811686cbrow2_col5\" class=\"data row2 col5\" >-0.106584</td>\n                        <td id=\"T_d622ceee_4dd0_11eb_96b6_8cc6811686cbrow2_col6\" class=\"data row2 col6\" >0.276206</td>\n                        <td id=\"T_d622ceee_4dd0_11eb_96b6_8cc6811686cbrow2_col7\" class=\"data row2 col7\" >-0.242089</td>\n                        <td id=\"T_d622ceee_4dd0_11eb_96b6_8cc6811686cbrow2_col8\" class=\"data row2 col8\" >0.473165</td>\n            </tr>\n            <tr>\n                        <th id=\"T_d622ceee_4dd0_11eb_96b6_8cc6811686cblevel0_row3\" class=\"row_heading level0 row3\" >energy</th>\n                        <td id=\"T_d622ceee_4dd0_11eb_96b6_8cc6811686cbrow3_col0\" class=\"data row3 col0\" >0.140703</td>\n                        <td id=\"T_d622ceee_4dd0_11eb_96b6_8cc6811686cbrow3_col1\" class=\"data row3 col1\" >-0.281619</td>\n                        <td id=\"T_d622ceee_4dd0_11eb_96b6_8cc6811686cbrow3_col2\" class=\"data row3 col2\" >-0.242032</td>\n                        <td id=\"T_d622ceee_4dd0_11eb_96b6_8cc6811686cbrow3_col3\" class=\"data row3 col3\" >1.000000</td>\n                        <td id=\"T_d622ceee_4dd0_11eb_96b6_8cc6811686cbrow3_col4\" class=\"data row3 col4\" >0.028238</td>\n                        <td id=\"T_d622ceee_4dd0_11eb_96b6_8cc6811686cbrow3_col5\" class=\"data row3 col5\" >0.113331</td>\n                        <td id=\"T_d622ceee_4dd0_11eb_96b6_8cc6811686cbrow3_col6\" class=\"data row3 col6\" >-0.109983</td>\n                        <td id=\"T_d622ceee_4dd0_11eb_96b6_8cc6811686cbrow3_col7\" class=\"data row3 col7\" >0.195227</td>\n                        <td id=\"T_d622ceee_4dd0_11eb_96b6_8cc6811686cbrow3_col8\" class=\"data row3 col8\" >0.038603</td>\n            </tr>\n            <tr>\n                        <th id=\"T_d622ceee_4dd0_11eb_96b6_8cc6811686cblevel0_row4\" class=\"row_heading level0 row4\" >instrumentalness</th>\n                        <td id=\"T_d622ceee_4dd0_11eb_96b6_8cc6811686cbrow4_col0\" class=\"data row4 col0\" >-0.275623</td>\n                        <td id=\"T_d622ceee_4dd0_11eb_96b6_8cc6811686cbrow4_col1\" class=\"data row4 col1\" >0.194780</td>\n                        <td id=\"T_d622ceee_4dd0_11eb_96b6_8cc6811686cbrow4_col2\" class=\"data row4 col2\" >-0.255217</td>\n                        <td id=\"T_d622ceee_4dd0_11eb_96b6_8cc6811686cbrow4_col3\" class=\"data row4 col3\" >0.028238</td>\n                        <td id=\"T_d622ceee_4dd0_11eb_96b6_8cc6811686cbrow4_col4\" class=\"data row4 col4\" >1.000000</td>\n                        <td id=\"T_d622ceee_4dd0_11eb_96b6_8cc6811686cbrow4_col5\" class=\"data row4 col5\" >-0.091022</td>\n                        <td id=\"T_d622ceee_4dd0_11eb_96b6_8cc6811686cbrow4_col6\" class=\"data row4 col6\" >-0.366762</td>\n                        <td id=\"T_d622ceee_4dd0_11eb_96b6_8cc6811686cbrow4_col7\" class=\"data row4 col7\" >0.022215</td>\n                        <td id=\"T_d622ceee_4dd0_11eb_96b6_8cc6811686cbrow4_col8\" class=\"data row4 col8\" >-0.219967</td>\n            </tr>\n            <tr>\n                        <th id=\"T_d622ceee_4dd0_11eb_96b6_8cc6811686cblevel0_row5\" class=\"row_heading level0 row5\" >liveness</th>\n                        <td id=\"T_d622ceee_4dd0_11eb_96b6_8cc6811686cbrow5_col0\" class=\"data row5 col0\" >0.048231</td>\n                        <td id=\"T_d622ceee_4dd0_11eb_96b6_8cc6811686cbrow5_col1\" class=\"data row5 col1\" >-0.019991</td>\n                        <td id=\"T_d622ceee_4dd0_11eb_96b6_8cc6811686cbrow5_col2\" class=\"data row5 col2\" >-0.106584</td>\n                        <td id=\"T_d622ceee_4dd0_11eb_96b6_8cc6811686cbrow5_col3\" class=\"data row5 col3\" >0.113331</td>\n                        <td id=\"T_d622ceee_4dd0_11eb_96b6_8cc6811686cbrow5_col4\" class=\"data row5 col4\" >-0.091022</td>\n                        <td id=\"T_d622ceee_4dd0_11eb_96b6_8cc6811686cbrow5_col5\" class=\"data row5 col5\" >1.000000</td>\n                        <td id=\"T_d622ceee_4dd0_11eb_96b6_8cc6811686cbrow5_col6\" class=\"data row5 col6\" >0.041173</td>\n                        <td id=\"T_d622ceee_4dd0_11eb_96b6_8cc6811686cbrow5_col7\" class=\"data row5 col7\" >0.002732</td>\n                        <td id=\"T_d622ceee_4dd0_11eb_96b6_8cc6811686cbrow5_col8\" class=\"data row5 col8\" >-0.045093</td>\n            </tr>\n            <tr>\n                        <th id=\"T_d622ceee_4dd0_11eb_96b6_8cc6811686cblevel0_row6\" class=\"row_heading level0 row6\" >speechiness</th>\n                        <td id=\"T_d622ceee_4dd0_11eb_96b6_8cc6811686cbrow6_col0\" class=\"data row6 col0\" >-0.026995</td>\n                        <td id=\"T_d622ceee_4dd0_11eb_96b6_8cc6811686cbrow6_col1\" class=\"data row6 col1\" >0.072204</td>\n                        <td id=\"T_d622ceee_4dd0_11eb_96b6_8cc6811686cbrow6_col2\" class=\"data row6 col2\" >0.276206</td>\n                        <td id=\"T_d622ceee_4dd0_11eb_96b6_8cc6811686cbrow6_col3\" class=\"data row6 col3\" >-0.109983</td>\n                        <td id=\"T_d622ceee_4dd0_11eb_96b6_8cc6811686cbrow6_col4\" class=\"data row6 col4\" >-0.366762</td>\n                        <td id=\"T_d622ceee_4dd0_11eb_96b6_8cc6811686cbrow6_col5\" class=\"data row6 col5\" >0.041173</td>\n                        <td id=\"T_d622ceee_4dd0_11eb_96b6_8cc6811686cbrow6_col6\" class=\"data row6 col6\" >1.000000</td>\n                        <td id=\"T_d622ceee_4dd0_11eb_96b6_8cc6811686cbrow6_col7\" class=\"data row6 col7\" >0.008241</td>\n                        <td id=\"T_d622ceee_4dd0_11eb_96b6_8cc6811686cbrow6_col8\" class=\"data row6 col8\" >0.149894</td>\n            </tr>\n            <tr>\n                        <th id=\"T_d622ceee_4dd0_11eb_96b6_8cc6811686cblevel0_row7\" class=\"row_heading level0 row7\" >tempo</th>\n                        <td id=\"T_d622ceee_4dd0_11eb_96b6_8cc6811686cbrow7_col0\" class=\"data row7 col0\" >-0.025392</td>\n                        <td id=\"T_d622ceee_4dd0_11eb_96b6_8cc6811686cbrow7_col1\" class=\"data row7 col1\" >-0.026310</td>\n                        <td id=\"T_d622ceee_4dd0_11eb_96b6_8cc6811686cbrow7_col2\" class=\"data row7 col2\" >-0.242089</td>\n                        <td id=\"T_d622ceee_4dd0_11eb_96b6_8cc6811686cbrow7_col3\" class=\"data row7 col3\" >0.195227</td>\n                        <td id=\"T_d622ceee_4dd0_11eb_96b6_8cc6811686cbrow7_col4\" class=\"data row7 col4\" >0.022215</td>\n                        <td id=\"T_d622ceee_4dd0_11eb_96b6_8cc6811686cbrow7_col5\" class=\"data row7 col5\" >0.002732</td>\n                        <td id=\"T_d622ceee_4dd0_11eb_96b6_8cc6811686cbrow7_col6\" class=\"data row7 col6\" >0.008241</td>\n                        <td id=\"T_d622ceee_4dd0_11eb_96b6_8cc6811686cbrow7_col7\" class=\"data row7 col7\" >1.000000</td>\n                        <td id=\"T_d622ceee_4dd0_11eb_96b6_8cc6811686cbrow7_col8\" class=\"data row7 col8\" >0.052221</td>\n            </tr>\n            <tr>\n                        <th id=\"T_d622ceee_4dd0_11eb_96b6_8cc6811686cblevel0_row8\" class=\"row_heading level0 row8\" >valence</th>\n                        <td id=\"T_d622ceee_4dd0_11eb_96b6_8cc6811686cbrow8_col0\" class=\"data row8 col0\" >0.010070</td>\n                        <td id=\"T_d622ceee_4dd0_11eb_96b6_8cc6811686cbrow8_col1\" class=\"data row8 col1\" >-0.013841</td>\n                        <td id=\"T_d622ceee_4dd0_11eb_96b6_8cc6811686cbrow8_col2\" class=\"data row8 col2\" >0.473165</td>\n                        <td id=\"T_d622ceee_4dd0_11eb_96b6_8cc6811686cbrow8_col3\" class=\"data row8 col3\" >0.038603</td>\n                        <td id=\"T_d622ceee_4dd0_11eb_96b6_8cc6811686cbrow8_col4\" class=\"data row8 col4\" >-0.219967</td>\n                        <td id=\"T_d622ceee_4dd0_11eb_96b6_8cc6811686cbrow8_col5\" class=\"data row8 col5\" >-0.045093</td>\n                        <td id=\"T_d622ceee_4dd0_11eb_96b6_8cc6811686cbrow8_col6\" class=\"data row8 col6\" >0.149894</td>\n                        <td id=\"T_d622ceee_4dd0_11eb_96b6_8cc6811686cbrow8_col7\" class=\"data row8 col7\" >0.052221</td>\n                        <td id=\"T_d622ceee_4dd0_11eb_96b6_8cc6811686cbrow8_col8\" class=\"data row8 col8\" >1.000000</td>\n            </tr>\n    </tbody></table>"
     },
     "metadata": {},
     "execution_count": 9
    }
   ],
   "source": [
    "# exploring possible correlations\n",
    "corr_metrics = echo_data.corr()\n",
    "corr_metrics.style.background_gradient()"
   ]
  },
  {
   "cell_type": "code",
   "execution_count": 13,
   "metadata": {},
   "outputs": [],
   "source": [
    "# using PCA to determine how much dimensionality in our data we can reduce and choose the best features\n",
    "\n",
    "#features\n",
    "features = echo_data.drop(['genre_top', 'track_id'], axis=1)\n",
    "labels = echo_data['genre_top']\n",
    "\n",
    "# importing the scaler\n",
    "from sklearn.preprocessing import StandardScaler\n",
    "scaler = StandardScaler()\n",
    "scaled_train_features = scaler.fit_transform(features)"
   ]
  },
  {
   "cell_type": "code",
   "execution_count": 14,
   "metadata": {},
   "outputs": [
    {
     "output_type": "execute_result",
     "data": {
      "text/plain": [
       "array([0.24297674, 0.18044316, 0.13650309, 0.12994089, 0.11056248,\n",
       "       0.08302245, 0.06923783, 0.04731336])"
      ]
     },
     "metadata": {},
     "execution_count": 14
    }
   ],
   "source": [
    "import matplotlib.pyplot as plt \n",
    "from sklearn.decomposition import PCA\n",
    "\n",
    "pca = PCA()\n",
    "pca.fit(scaled_train_features)\n",
    "exp_variance = pca.explained_variance_ratio_\n",
    "exp_variance"
   ]
  },
  {
   "cell_type": "code",
   "execution_count": 15,
   "metadata": {},
   "outputs": [
    {
     "output_type": "display_data",
     "data": {
      "text/plain": "<Figure size 432x288 with 1 Axes>",
      "image/svg+xml": "<?xml version=\"1.0\" encoding=\"utf-8\" standalone=\"no\"?>\r\n<!DOCTYPE svg PUBLIC \"-//W3C//DTD SVG 1.1//EN\"\r\n  \"http://www.w3.org/Graphics/SVG/1.1/DTD/svg11.dtd\">\r\n<!-- Created with matplotlib (https://matplotlib.org/) -->\r\n<svg height=\"262.19625pt\" version=\"1.1\" viewBox=\"0 0 378.465625 262.19625\" width=\"378.465625pt\" xmlns=\"http://www.w3.org/2000/svg\" xmlns:xlink=\"http://www.w3.org/1999/xlink\">\r\n <defs>\r\n  <style type=\"text/css\">\r\n*{stroke-linecap:butt;stroke-linejoin:round;}\r\n  </style>\r\n </defs>\r\n <g id=\"figure_1\">\r\n  <g id=\"patch_1\">\r\n   <path d=\"M 0 262.19625 \r\nL 378.465625 262.19625 \r\nL 378.465625 0 \r\nL 0 0 \r\nz\r\n\" style=\"fill:none;\"/>\r\n  </g>\r\n  <g id=\"axes_1\">\r\n   <g id=\"patch_2\">\r\n    <path d=\"M 36.465625 224.64 \r\nL 371.265625 224.64 \r\nL 371.265625 7.2 \r\nL 36.465625 7.2 \r\nz\r\n\" style=\"fill:#ffffff;\"/>\r\n   </g>\r\n   <g id=\"patch_3\">\r\n    <path clip-path=\"url(#paa55bb9605)\" d=\"M 51.683807 224.64 \r\nL 82.90059 224.64 \r\nL 82.90059 17.554286 \r\nL 51.683807 17.554286 \r\nz\r\n\" style=\"fill:#1f77b4;\"/>\r\n   </g>\r\n   <g id=\"patch_4\">\r\n    <path clip-path=\"url(#paa55bb9605)\" d=\"M 90.704786 224.64 \r\nL 121.921569 224.64 \r\nL 121.921569 70.850785 \r\nL 90.704786 70.850785 \r\nz\r\n\" style=\"fill:#1f77b4;\"/>\r\n   </g>\r\n   <g id=\"patch_5\">\r\n    <path clip-path=\"url(#paa55bb9605)\" d=\"M 129.725765 224.64 \r\nL 160.942548 224.64 \r\nL 160.942548 108.300301 \r\nL 129.725765 108.300301 \r\nz\r\n\" style=\"fill:#1f77b4;\"/>\r\n   </g>\r\n   <g id=\"patch_6\">\r\n    <path clip-path=\"url(#paa55bb9605)\" d=\"M 168.746744 224.64 \r\nL 199.963527 224.64 \r\nL 199.963527 113.893177 \r\nL 168.746744 113.893177 \r\nz\r\n\" style=\"fill:#1f77b4;\"/>\r\n   </g>\r\n   <g id=\"patch_7\">\r\n    <path clip-path=\"url(#paa55bb9605)\" d=\"M 207.767723 224.64 \r\nL 238.984506 224.64 \r\nL 238.984506 130.409123 \r\nL 207.767723 130.409123 \r\nz\r\n\" style=\"fill:#1f77b4;\"/>\r\n   </g>\r\n   <g id=\"patch_8\">\r\n    <path clip-path=\"url(#paa55bb9605)\" d=\"M 246.788702 224.64 \r\nL 278.005485 224.64 \r\nL 278.005485 153.881113 \r\nL 246.788702 153.881113 \r\nz\r\n\" style=\"fill:#1f77b4;\"/>\r\n   </g>\r\n   <g id=\"patch_9\">\r\n    <path clip-path=\"url(#paa55bb9605)\" d=\"M 285.809681 224.64 \r\nL 317.026464 224.64 \r\nL 317.026464 165.629553 \r\nL 285.809681 165.629553 \r\nz\r\n\" style=\"fill:#1f77b4;\"/>\r\n   </g>\r\n   <g id=\"patch_10\">\r\n    <path clip-path=\"url(#paa55bb9605)\" d=\"M 324.83066 224.64 \r\nL 356.047443 224.64 \r\nL 356.047443 184.315481 \r\nL 324.83066 184.315481 \r\nz\r\n\" style=\"fill:#1f77b4;\"/>\r\n   </g>\r\n   <g id=\"matplotlib.axis_1\">\r\n    <g id=\"xtick_1\">\r\n     <g id=\"line2d_1\">\r\n      <defs>\r\n       <path d=\"M 0 0 \r\nL 0 3.5 \r\n\" id=\"mf9eb8abbe1\" style=\"stroke:#000000;stroke-width:0.8;\"/>\r\n      </defs>\r\n      <g>\r\n       <use style=\"stroke:#000000;stroke-width:0.8;\" x=\"67.292198\" xlink:href=\"#mf9eb8abbe1\" y=\"224.64\"/>\r\n      </g>\r\n     </g>\r\n     <g id=\"text_1\">\r\n      <!-- 0 -->\r\n      <defs>\r\n       <path d=\"M 31.78125 66.40625 \r\nQ 24.171875 66.40625 20.328125 58.90625 \r\nQ 16.5 51.421875 16.5 36.375 \r\nQ 16.5 21.390625 20.328125 13.890625 \r\nQ 24.171875 6.390625 31.78125 6.390625 \r\nQ 39.453125 6.390625 43.28125 13.890625 \r\nQ 47.125 21.390625 47.125 36.375 \r\nQ 47.125 51.421875 43.28125 58.90625 \r\nQ 39.453125 66.40625 31.78125 66.40625 \r\nz\r\nM 31.78125 74.21875 \r\nQ 44.046875 74.21875 50.515625 64.515625 \r\nQ 56.984375 54.828125 56.984375 36.375 \r\nQ 56.984375 17.96875 50.515625 8.265625 \r\nQ 44.046875 -1.421875 31.78125 -1.421875 \r\nQ 19.53125 -1.421875 13.0625 8.265625 \r\nQ 6.59375 17.96875 6.59375 36.375 \r\nQ 6.59375 54.828125 13.0625 64.515625 \r\nQ 19.53125 74.21875 31.78125 74.21875 \r\nz\r\n\" id=\"DejaVuSans-48\"/>\r\n      </defs>\r\n      <g transform=\"translate(64.110948 239.238437)scale(0.1 -0.1)\">\r\n       <use xlink:href=\"#DejaVuSans-48\"/>\r\n      </g>\r\n     </g>\r\n    </g>\r\n    <g id=\"xtick_2\">\r\n     <g id=\"line2d_2\">\r\n      <g>\r\n       <use style=\"stroke:#000000;stroke-width:0.8;\" x=\"106.313177\" xlink:href=\"#mf9eb8abbe1\" y=\"224.64\"/>\r\n      </g>\r\n     </g>\r\n     <g id=\"text_2\">\r\n      <!-- 1 -->\r\n      <defs>\r\n       <path d=\"M 12.40625 8.296875 \r\nL 28.515625 8.296875 \r\nL 28.515625 63.921875 \r\nL 10.984375 60.40625 \r\nL 10.984375 69.390625 \r\nL 28.421875 72.90625 \r\nL 38.28125 72.90625 \r\nL 38.28125 8.296875 \r\nL 54.390625 8.296875 \r\nL 54.390625 0 \r\nL 12.40625 0 \r\nz\r\n\" id=\"DejaVuSans-49\"/>\r\n      </defs>\r\n      <g transform=\"translate(103.131927 239.238437)scale(0.1 -0.1)\">\r\n       <use xlink:href=\"#DejaVuSans-49\"/>\r\n      </g>\r\n     </g>\r\n    </g>\r\n    <g id=\"xtick_3\">\r\n     <g id=\"line2d_3\">\r\n      <g>\r\n       <use style=\"stroke:#000000;stroke-width:0.8;\" x=\"145.334156\" xlink:href=\"#mf9eb8abbe1\" y=\"224.64\"/>\r\n      </g>\r\n     </g>\r\n     <g id=\"text_3\">\r\n      <!-- 2 -->\r\n      <defs>\r\n       <path d=\"M 19.1875 8.296875 \r\nL 53.609375 8.296875 \r\nL 53.609375 0 \r\nL 7.328125 0 \r\nL 7.328125 8.296875 \r\nQ 12.9375 14.109375 22.625 23.890625 \r\nQ 32.328125 33.6875 34.8125 36.53125 \r\nQ 39.546875 41.84375 41.421875 45.53125 \r\nQ 43.3125 49.21875 43.3125 52.78125 \r\nQ 43.3125 58.59375 39.234375 62.25 \r\nQ 35.15625 65.921875 28.609375 65.921875 \r\nQ 23.96875 65.921875 18.8125 64.3125 \r\nQ 13.671875 62.703125 7.8125 59.421875 \r\nL 7.8125 69.390625 \r\nQ 13.765625 71.78125 18.9375 73 \r\nQ 24.125 74.21875 28.421875 74.21875 \r\nQ 39.75 74.21875 46.484375 68.546875 \r\nQ 53.21875 62.890625 53.21875 53.421875 \r\nQ 53.21875 48.921875 51.53125 44.890625 \r\nQ 49.859375 40.875 45.40625 35.40625 \r\nQ 44.1875 33.984375 37.640625 27.21875 \r\nQ 31.109375 20.453125 19.1875 8.296875 \r\nz\r\n\" id=\"DejaVuSans-50\"/>\r\n      </defs>\r\n      <g transform=\"translate(142.152906 239.238437)scale(0.1 -0.1)\">\r\n       <use xlink:href=\"#DejaVuSans-50\"/>\r\n      </g>\r\n     </g>\r\n    </g>\r\n    <g id=\"xtick_4\">\r\n     <g id=\"line2d_4\">\r\n      <g>\r\n       <use style=\"stroke:#000000;stroke-width:0.8;\" x=\"184.355135\" xlink:href=\"#mf9eb8abbe1\" y=\"224.64\"/>\r\n      </g>\r\n     </g>\r\n     <g id=\"text_4\">\r\n      <!-- 3 -->\r\n      <defs>\r\n       <path d=\"M 40.578125 39.3125 \r\nQ 47.65625 37.796875 51.625 33 \r\nQ 55.609375 28.21875 55.609375 21.1875 \r\nQ 55.609375 10.40625 48.1875 4.484375 \r\nQ 40.765625 -1.421875 27.09375 -1.421875 \r\nQ 22.515625 -1.421875 17.65625 -0.515625 \r\nQ 12.796875 0.390625 7.625 2.203125 \r\nL 7.625 11.71875 \r\nQ 11.71875 9.328125 16.59375 8.109375 \r\nQ 21.484375 6.890625 26.8125 6.890625 \r\nQ 36.078125 6.890625 40.9375 10.546875 \r\nQ 45.796875 14.203125 45.796875 21.1875 \r\nQ 45.796875 27.640625 41.28125 31.265625 \r\nQ 36.765625 34.90625 28.71875 34.90625 \r\nL 20.21875 34.90625 \r\nL 20.21875 43.015625 \r\nL 29.109375 43.015625 \r\nQ 36.375 43.015625 40.234375 45.921875 \r\nQ 44.09375 48.828125 44.09375 54.296875 \r\nQ 44.09375 59.90625 40.109375 62.90625 \r\nQ 36.140625 65.921875 28.71875 65.921875 \r\nQ 24.65625 65.921875 20.015625 65.03125 \r\nQ 15.375 64.15625 9.8125 62.3125 \r\nL 9.8125 71.09375 \r\nQ 15.4375 72.65625 20.34375 73.4375 \r\nQ 25.25 74.21875 29.59375 74.21875 \r\nQ 40.828125 74.21875 47.359375 69.109375 \r\nQ 53.90625 64.015625 53.90625 55.328125 \r\nQ 53.90625 49.265625 50.4375 45.09375 \r\nQ 46.96875 40.921875 40.578125 39.3125 \r\nz\r\n\" id=\"DejaVuSans-51\"/>\r\n      </defs>\r\n      <g transform=\"translate(181.173885 239.238437)scale(0.1 -0.1)\">\r\n       <use xlink:href=\"#DejaVuSans-51\"/>\r\n      </g>\r\n     </g>\r\n    </g>\r\n    <g id=\"xtick_5\">\r\n     <g id=\"line2d_5\">\r\n      <g>\r\n       <use style=\"stroke:#000000;stroke-width:0.8;\" x=\"223.376115\" xlink:href=\"#mf9eb8abbe1\" y=\"224.64\"/>\r\n      </g>\r\n     </g>\r\n     <g id=\"text_5\">\r\n      <!-- 4 -->\r\n      <defs>\r\n       <path d=\"M 37.796875 64.3125 \r\nL 12.890625 25.390625 \r\nL 37.796875 25.390625 \r\nz\r\nM 35.203125 72.90625 \r\nL 47.609375 72.90625 \r\nL 47.609375 25.390625 \r\nL 58.015625 25.390625 \r\nL 58.015625 17.1875 \r\nL 47.609375 17.1875 \r\nL 47.609375 0 \r\nL 37.796875 0 \r\nL 37.796875 17.1875 \r\nL 4.890625 17.1875 \r\nL 4.890625 26.703125 \r\nz\r\n\" id=\"DejaVuSans-52\"/>\r\n      </defs>\r\n      <g transform=\"translate(220.194865 239.238437)scale(0.1 -0.1)\">\r\n       <use xlink:href=\"#DejaVuSans-52\"/>\r\n      </g>\r\n     </g>\r\n    </g>\r\n    <g id=\"xtick_6\">\r\n     <g id=\"line2d_6\">\r\n      <g>\r\n       <use style=\"stroke:#000000;stroke-width:0.8;\" x=\"262.397094\" xlink:href=\"#mf9eb8abbe1\" y=\"224.64\"/>\r\n      </g>\r\n     </g>\r\n     <g id=\"text_6\">\r\n      <!-- 5 -->\r\n      <defs>\r\n       <path d=\"M 10.796875 72.90625 \r\nL 49.515625 72.90625 \r\nL 49.515625 64.59375 \r\nL 19.828125 64.59375 \r\nL 19.828125 46.734375 \r\nQ 21.96875 47.46875 24.109375 47.828125 \r\nQ 26.265625 48.1875 28.421875 48.1875 \r\nQ 40.625 48.1875 47.75 41.5 \r\nQ 54.890625 34.8125 54.890625 23.390625 \r\nQ 54.890625 11.625 47.5625 5.09375 \r\nQ 40.234375 -1.421875 26.90625 -1.421875 \r\nQ 22.3125 -1.421875 17.546875 -0.640625 \r\nQ 12.796875 0.140625 7.71875 1.703125 \r\nL 7.71875 11.625 \r\nQ 12.109375 9.234375 16.796875 8.0625 \r\nQ 21.484375 6.890625 26.703125 6.890625 \r\nQ 35.15625 6.890625 40.078125 11.328125 \r\nQ 45.015625 15.765625 45.015625 23.390625 \r\nQ 45.015625 31 40.078125 35.4375 \r\nQ 35.15625 39.890625 26.703125 39.890625 \r\nQ 22.75 39.890625 18.8125 39.015625 \r\nQ 14.890625 38.140625 10.796875 36.28125 \r\nz\r\n\" id=\"DejaVuSans-53\"/>\r\n      </defs>\r\n      <g transform=\"translate(259.215844 239.238437)scale(0.1 -0.1)\">\r\n       <use xlink:href=\"#DejaVuSans-53\"/>\r\n      </g>\r\n     </g>\r\n    </g>\r\n    <g id=\"xtick_7\">\r\n     <g id=\"line2d_7\">\r\n      <g>\r\n       <use style=\"stroke:#000000;stroke-width:0.8;\" x=\"301.418073\" xlink:href=\"#mf9eb8abbe1\" y=\"224.64\"/>\r\n      </g>\r\n     </g>\r\n     <g id=\"text_7\">\r\n      <!-- 6 -->\r\n      <defs>\r\n       <path d=\"M 33.015625 40.375 \r\nQ 26.375 40.375 22.484375 35.828125 \r\nQ 18.609375 31.296875 18.609375 23.390625 \r\nQ 18.609375 15.53125 22.484375 10.953125 \r\nQ 26.375 6.390625 33.015625 6.390625 \r\nQ 39.65625 6.390625 43.53125 10.953125 \r\nQ 47.40625 15.53125 47.40625 23.390625 \r\nQ 47.40625 31.296875 43.53125 35.828125 \r\nQ 39.65625 40.375 33.015625 40.375 \r\nz\r\nM 52.59375 71.296875 \r\nL 52.59375 62.3125 \r\nQ 48.875 64.0625 45.09375 64.984375 \r\nQ 41.3125 65.921875 37.59375 65.921875 \r\nQ 27.828125 65.921875 22.671875 59.328125 \r\nQ 17.53125 52.734375 16.796875 39.40625 \r\nQ 19.671875 43.65625 24.015625 45.921875 \r\nQ 28.375 48.1875 33.59375 48.1875 \r\nQ 44.578125 48.1875 50.953125 41.515625 \r\nQ 57.328125 34.859375 57.328125 23.390625 \r\nQ 57.328125 12.15625 50.6875 5.359375 \r\nQ 44.046875 -1.421875 33.015625 -1.421875 \r\nQ 20.359375 -1.421875 13.671875 8.265625 \r\nQ 6.984375 17.96875 6.984375 36.375 \r\nQ 6.984375 53.65625 15.1875 63.9375 \r\nQ 23.390625 74.21875 37.203125 74.21875 \r\nQ 40.921875 74.21875 44.703125 73.484375 \r\nQ 48.484375 72.75 52.59375 71.296875 \r\nz\r\n\" id=\"DejaVuSans-54\"/>\r\n      </defs>\r\n      <g transform=\"translate(298.236823 239.238437)scale(0.1 -0.1)\">\r\n       <use xlink:href=\"#DejaVuSans-54\"/>\r\n      </g>\r\n     </g>\r\n    </g>\r\n    <g id=\"xtick_8\">\r\n     <g id=\"line2d_8\">\r\n      <g>\r\n       <use style=\"stroke:#000000;stroke-width:0.8;\" x=\"340.439052\" xlink:href=\"#mf9eb8abbe1\" y=\"224.64\"/>\r\n      </g>\r\n     </g>\r\n     <g id=\"text_8\">\r\n      <!-- 7 -->\r\n      <defs>\r\n       <path d=\"M 8.203125 72.90625 \r\nL 55.078125 72.90625 \r\nL 55.078125 68.703125 \r\nL 28.609375 0 \r\nL 18.3125 0 \r\nL 43.21875 64.59375 \r\nL 8.203125 64.59375 \r\nz\r\n\" id=\"DejaVuSans-55\"/>\r\n      </defs>\r\n      <g transform=\"translate(337.257802 239.238437)scale(0.1 -0.1)\">\r\n       <use xlink:href=\"#DejaVuSans-55\"/>\r\n      </g>\r\n     </g>\r\n    </g>\r\n    <g id=\"text_9\">\r\n     <!-- PCA -->\r\n     <defs>\r\n      <path d=\"M 19.671875 64.796875 \r\nL 19.671875 37.40625 \r\nL 32.078125 37.40625 \r\nQ 38.96875 37.40625 42.71875 40.96875 \r\nQ 46.484375 44.53125 46.484375 51.125 \r\nQ 46.484375 57.671875 42.71875 61.234375 \r\nQ 38.96875 64.796875 32.078125 64.796875 \r\nz\r\nM 9.8125 72.90625 \r\nL 32.078125 72.90625 \r\nQ 44.34375 72.90625 50.609375 67.359375 \r\nQ 56.890625 61.8125 56.890625 51.125 \r\nQ 56.890625 40.328125 50.609375 34.8125 \r\nQ 44.34375 29.296875 32.078125 29.296875 \r\nL 19.671875 29.296875 \r\nL 19.671875 0 \r\nL 9.8125 0 \r\nz\r\n\" id=\"DejaVuSans-80\"/>\r\n      <path d=\"M 64.40625 67.28125 \r\nL 64.40625 56.890625 \r\nQ 59.421875 61.53125 53.78125 63.8125 \r\nQ 48.140625 66.109375 41.796875 66.109375 \r\nQ 29.296875 66.109375 22.65625 58.46875 \r\nQ 16.015625 50.828125 16.015625 36.375 \r\nQ 16.015625 21.96875 22.65625 14.328125 \r\nQ 29.296875 6.6875 41.796875 6.6875 \r\nQ 48.140625 6.6875 53.78125 8.984375 \r\nQ 59.421875 11.28125 64.40625 15.921875 \r\nL 64.40625 5.609375 \r\nQ 59.234375 2.09375 53.4375 0.328125 \r\nQ 47.65625 -1.421875 41.21875 -1.421875 \r\nQ 24.65625 -1.421875 15.125 8.703125 \r\nQ 5.609375 18.84375 5.609375 36.375 \r\nQ 5.609375 53.953125 15.125 64.078125 \r\nQ 24.65625 74.21875 41.21875 74.21875 \r\nQ 47.75 74.21875 53.53125 72.484375 \r\nQ 59.328125 70.75 64.40625 67.28125 \r\nz\r\n\" id=\"DejaVuSans-67\"/>\r\n      <path d=\"M 34.1875 63.1875 \r\nL 20.796875 26.90625 \r\nL 47.609375 26.90625 \r\nz\r\nM 28.609375 72.90625 \r\nL 39.796875 72.90625 \r\nL 67.578125 0 \r\nL 57.328125 0 \r\nL 50.6875 18.703125 \r\nL 17.828125 18.703125 \r\nL 11.1875 0 \r\nL 0.78125 0 \r\nz\r\n\" id=\"DejaVuSans-65\"/>\r\n     </defs>\r\n     <g transform=\"translate(193.939063 252.916562)scale(0.1 -0.1)\">\r\n      <use xlink:href=\"#DejaVuSans-80\"/>\r\n      <use x=\"60.302734\" xlink:href=\"#DejaVuSans-67\"/>\r\n      <use x=\"130.126953\" xlink:href=\"#DejaVuSans-65\"/>\r\n     </g>\r\n    </g>\r\n   </g>\r\n   <g id=\"matplotlib.axis_2\">\r\n    <g id=\"ytick_1\">\r\n     <g id=\"line2d_9\">\r\n      <defs>\r\n       <path d=\"M 0 0 \r\nL -3.5 0 \r\n\" id=\"m16cd902569\" style=\"stroke:#000000;stroke-width:0.8;\"/>\r\n      </defs>\r\n      <g>\r\n       <use style=\"stroke:#000000;stroke-width:0.8;\" x=\"36.465625\" xlink:href=\"#m16cd902569\" y=\"224.64\"/>\r\n      </g>\r\n     </g>\r\n     <g id=\"text_10\">\r\n      <!-- 0.00 -->\r\n      <defs>\r\n       <path d=\"M 10.6875 12.40625 \r\nL 21 12.40625 \r\nL 21 0 \r\nL 10.6875 0 \r\nz\r\n\" id=\"DejaVuSans-46\"/>\r\n      </defs>\r\n      <g transform=\"translate(7.2 228.439219)scale(0.1 -0.1)\">\r\n       <use xlink:href=\"#DejaVuSans-48\"/>\r\n       <use x=\"63.623047\" xlink:href=\"#DejaVuSans-46\"/>\r\n       <use x=\"95.410156\" xlink:href=\"#DejaVuSans-48\"/>\r\n       <use x=\"159.033203\" xlink:href=\"#DejaVuSans-48\"/>\r\n      </g>\r\n     </g>\r\n    </g>\r\n    <g id=\"ytick_2\">\r\n     <g id=\"line2d_10\">\r\n      <g>\r\n       <use style=\"stroke:#000000;stroke-width:0.8;\" x=\"36.465625\" xlink:href=\"#m16cd902569\" y=\"182.025691\"/>\r\n      </g>\r\n     </g>\r\n     <g id=\"text_11\">\r\n      <!-- 0.05 -->\r\n      <g transform=\"translate(7.2 185.82491)scale(0.1 -0.1)\">\r\n       <use xlink:href=\"#DejaVuSans-48\"/>\r\n       <use x=\"63.623047\" xlink:href=\"#DejaVuSans-46\"/>\r\n       <use x=\"95.410156\" xlink:href=\"#DejaVuSans-48\"/>\r\n       <use x=\"159.033203\" xlink:href=\"#DejaVuSans-53\"/>\r\n      </g>\r\n     </g>\r\n    </g>\r\n    <g id=\"ytick_3\">\r\n     <g id=\"line2d_11\">\r\n      <g>\r\n       <use style=\"stroke:#000000;stroke-width:0.8;\" x=\"36.465625\" xlink:href=\"#m16cd902569\" y=\"139.411382\"/>\r\n      </g>\r\n     </g>\r\n     <g id=\"text_12\">\r\n      <!-- 0.10 -->\r\n      <g transform=\"translate(7.2 143.210601)scale(0.1 -0.1)\">\r\n       <use xlink:href=\"#DejaVuSans-48\"/>\r\n       <use x=\"63.623047\" xlink:href=\"#DejaVuSans-46\"/>\r\n       <use x=\"95.410156\" xlink:href=\"#DejaVuSans-49\"/>\r\n       <use x=\"159.033203\" xlink:href=\"#DejaVuSans-48\"/>\r\n      </g>\r\n     </g>\r\n    </g>\r\n    <g id=\"ytick_4\">\r\n     <g id=\"line2d_12\">\r\n      <g>\r\n       <use style=\"stroke:#000000;stroke-width:0.8;\" x=\"36.465625\" xlink:href=\"#m16cd902569\" y=\"96.797073\"/>\r\n      </g>\r\n     </g>\r\n     <g id=\"text_13\">\r\n      <!-- 0.15 -->\r\n      <g transform=\"translate(7.2 100.596292)scale(0.1 -0.1)\">\r\n       <use xlink:href=\"#DejaVuSans-48\"/>\r\n       <use x=\"63.623047\" xlink:href=\"#DejaVuSans-46\"/>\r\n       <use x=\"95.410156\" xlink:href=\"#DejaVuSans-49\"/>\r\n       <use x=\"159.033203\" xlink:href=\"#DejaVuSans-53\"/>\r\n      </g>\r\n     </g>\r\n    </g>\r\n    <g id=\"ytick_5\">\r\n     <g id=\"line2d_13\">\r\n      <g>\r\n       <use style=\"stroke:#000000;stroke-width:0.8;\" x=\"36.465625\" xlink:href=\"#m16cd902569\" y=\"54.182764\"/>\r\n      </g>\r\n     </g>\r\n     <g id=\"text_14\">\r\n      <!-- 0.20 -->\r\n      <g transform=\"translate(7.2 57.981982)scale(0.1 -0.1)\">\r\n       <use xlink:href=\"#DejaVuSans-48\"/>\r\n       <use x=\"63.623047\" xlink:href=\"#DejaVuSans-46\"/>\r\n       <use x=\"95.410156\" xlink:href=\"#DejaVuSans-50\"/>\r\n       <use x=\"159.033203\" xlink:href=\"#DejaVuSans-48\"/>\r\n      </g>\r\n     </g>\r\n    </g>\r\n    <g id=\"ytick_6\">\r\n     <g id=\"line2d_14\">\r\n      <g>\r\n       <use style=\"stroke:#000000;stroke-width:0.8;\" x=\"36.465625\" xlink:href=\"#m16cd902569\" y=\"11.568455\"/>\r\n      </g>\r\n     </g>\r\n     <g id=\"text_15\">\r\n      <!-- 0.25 -->\r\n      <g transform=\"translate(7.2 15.367673)scale(0.1 -0.1)\">\r\n       <use xlink:href=\"#DejaVuSans-48\"/>\r\n       <use x=\"63.623047\" xlink:href=\"#DejaVuSans-46\"/>\r\n       <use x=\"95.410156\" xlink:href=\"#DejaVuSans-50\"/>\r\n       <use x=\"159.033203\" xlink:href=\"#DejaVuSans-53\"/>\r\n      </g>\r\n     </g>\r\n    </g>\r\n   </g>\r\n   <g id=\"patch_11\">\r\n    <path d=\"M 36.465625 224.64 \r\nL 36.465625 7.2 \r\n\" style=\"fill:none;stroke:#000000;stroke-linecap:square;stroke-linejoin:miter;stroke-width:0.8;\"/>\r\n   </g>\r\n   <g id=\"patch_12\">\r\n    <path d=\"M 371.265625 224.64 \r\nL 371.265625 7.2 \r\n\" style=\"fill:none;stroke:#000000;stroke-linecap:square;stroke-linejoin:miter;stroke-width:0.8;\"/>\r\n   </g>\r\n   <g id=\"patch_13\">\r\n    <path d=\"M 36.465625 224.64 \r\nL 371.265625 224.64 \r\n\" style=\"fill:none;stroke:#000000;stroke-linecap:square;stroke-linejoin:miter;stroke-width:0.8;\"/>\r\n   </g>\r\n   <g id=\"patch_14\">\r\n    <path d=\"M 36.465625 7.2 \r\nL 371.265625 7.2 \r\n\" style=\"fill:none;stroke:#000000;stroke-linecap:square;stroke-linejoin:miter;stroke-width:0.8;\"/>\r\n   </g>\r\n  </g>\r\n </g>\r\n <defs>\r\n  <clipPath id=\"paa55bb9605\">\r\n   <rect height=\"217.44\" width=\"334.8\" x=\"36.465625\" y=\"7.2\"/>\r\n  </clipPath>\r\n </defs>\r\n</svg>\r\n",
      "image/png": "[encoded data removed]"
     },
     "metadata": {
      "needs_background": "light"
     }
    }
   ],
   "source": [
    "# building a scree-plot that shows number of components against the variance explained by each component\n",
    "fig, ax = plt.subplots()\n",
    "ax.bar(range(pca.n_components_), exp_variance)\n",
    "ax.set_xlabel('PCA')\n",
    "plt.show()"
   ]
  },
  {
   "cell_type": "code",
   "execution_count": 16,
   "metadata": {},
   "outputs": [
    {
     "output_type": "execute_result",
     "data": {
      "text/plain": [
       "array([0.24297674, 0.4234199 , 0.55992299, 0.68986388, 0.80042636,\n",
       "       0.88344881, 0.95268664, 1.        ])"
      ]
     },
     "metadata": {},
     "execution_count": 16
    }
   ],
   "source": [
    "# Scree-plot does not show a clear 'elbow' for us to decide on an appropriate cutoff\n",
    "# Another method would be cumulative explained variance plots to determine how many features are required to explain a % of the variance\n",
    "\n",
    "import numpy as np \n",
    "\n",
    "# cumultaive explained variance\n",
    "cum_exp_variance = np.cumsum(exp_variance)\n",
    "cum_exp_variance"
   ]
  },
  {
   "cell_type": "code",
   "execution_count": 18,
   "metadata": {},
   "outputs": [
    {
     "output_type": "display_data",
     "data": {
      "text/plain": "<Figure size 432x288 with 1 Axes>",
      "image/svg+xml": "<?xml version=\"1.0\" encoding=\"utf-8\" standalone=\"no\"?>\r\n<!DOCTYPE svg PUBLIC \"-//W3C//DTD SVG 1.1//EN\"\r\n  \"http://www.w3.org/Graphics/SVG/1.1/DTD/svg11.dtd\">\r\n<!-- Created with matplotlib (https://matplotlib.org/) -->\r\n<svg height=\"248.518125pt\" version=\"1.1\" viewBox=\"0 0 372.103125 248.518125\" width=\"372.103125pt\" xmlns=\"http://www.w3.org/2000/svg\" xmlns:xlink=\"http://www.w3.org/1999/xlink\">\r\n <defs>\r\n  <style type=\"text/css\">\r\n*{stroke-linecap:butt;stroke-linejoin:round;}\r\n  </style>\r\n </defs>\r\n <g id=\"figure_1\">\r\n  <g id=\"patch_1\">\r\n   <path d=\"M 0 248.518125 \r\nL 372.103125 248.518125 \r\nL 372.103125 0 \r\nL 0 0 \r\nz\r\n\" style=\"fill:none;\"/>\r\n  </g>\r\n  <g id=\"axes_1\">\r\n   <g id=\"patch_2\">\r\n    <path d=\"M 30.103125 224.64 \r\nL 364.903125 224.64 \r\nL 364.903125 7.2 \r\nL 30.103125 7.2 \r\nz\r\n\" style=\"fill:#ffffff;\"/>\r\n   </g>\r\n   <g id=\"matplotlib.axis_1\">\r\n    <g id=\"xtick_1\">\r\n     <g id=\"line2d_1\">\r\n      <defs>\r\n       <path d=\"M 0 0 \r\nL 0 3.5 \r\n\" id=\"mf36f612103\" style=\"stroke:#000000;stroke-width:0.8;\"/>\r\n      </defs>\r\n      <g>\r\n       <use style=\"stroke:#000000;stroke-width:0.8;\" x=\"45.321307\" xlink:href=\"#mf36f612103\" y=\"224.64\"/>\r\n      </g>\r\n     </g>\r\n     <g id=\"text_1\">\r\n      <!-- 0 -->\r\n      <defs>\r\n       <path d=\"M 31.78125 66.40625 \r\nQ 24.171875 66.40625 20.328125 58.90625 \r\nQ 16.5 51.421875 16.5 36.375 \r\nQ 16.5 21.390625 20.328125 13.890625 \r\nQ 24.171875 6.390625 31.78125 6.390625 \r\nQ 39.453125 6.390625 43.28125 13.890625 \r\nQ 47.125 21.390625 47.125 36.375 \r\nQ 47.125 51.421875 43.28125 58.90625 \r\nQ 39.453125 66.40625 31.78125 66.40625 \r\nz\r\nM 31.78125 74.21875 \r\nQ 44.046875 74.21875 50.515625 64.515625 \r\nQ 56.984375 54.828125 56.984375 36.375 \r\nQ 56.984375 17.96875 50.515625 8.265625 \r\nQ 44.046875 -1.421875 31.78125 -1.421875 \r\nQ 19.53125 -1.421875 13.0625 8.265625 \r\nQ 6.59375 17.96875 6.59375 36.375 \r\nQ 6.59375 54.828125 13.0625 64.515625 \r\nQ 19.53125 74.21875 31.78125 74.21875 \r\nz\r\n\" id=\"DejaVuSans-48\"/>\r\n      </defs>\r\n      <g transform=\"translate(42.140057 239.238438)scale(0.1 -0.1)\">\r\n       <use xlink:href=\"#DejaVuSans-48\"/>\r\n      </g>\r\n     </g>\r\n    </g>\r\n    <g id=\"xtick_2\">\r\n     <g id=\"line2d_2\">\r\n      <g>\r\n       <use style=\"stroke:#000000;stroke-width:0.8;\" x=\"88.801826\" xlink:href=\"#mf36f612103\" y=\"224.64\"/>\r\n      </g>\r\n     </g>\r\n     <g id=\"text_2\">\r\n      <!-- 1 -->\r\n      <defs>\r\n       <path d=\"M 12.40625 8.296875 \r\nL 28.515625 8.296875 \r\nL 28.515625 63.921875 \r\nL 10.984375 60.40625 \r\nL 10.984375 69.390625 \r\nL 28.421875 72.90625 \r\nL 38.28125 72.90625 \r\nL 38.28125 8.296875 \r\nL 54.390625 8.296875 \r\nL 54.390625 0 \r\nL 12.40625 0 \r\nz\r\n\" id=\"DejaVuSans-49\"/>\r\n      </defs>\r\n      <g transform=\"translate(85.620576 239.238438)scale(0.1 -0.1)\">\r\n       <use xlink:href=\"#DejaVuSans-49\"/>\r\n      </g>\r\n     </g>\r\n    </g>\r\n    <g id=\"xtick_3\">\r\n     <g id=\"line2d_3\">\r\n      <g>\r\n       <use style=\"stroke:#000000;stroke-width:0.8;\" x=\"132.282346\" xlink:href=\"#mf36f612103\" y=\"224.64\"/>\r\n      </g>\r\n     </g>\r\n     <g id=\"text_3\">\r\n      <!-- 2 -->\r\n      <defs>\r\n       <path d=\"M 19.1875 8.296875 \r\nL 53.609375 8.296875 \r\nL 53.609375 0 \r\nL 7.328125 0 \r\nL 7.328125 8.296875 \r\nQ 12.9375 14.109375 22.625 23.890625 \r\nQ 32.328125 33.6875 34.8125 36.53125 \r\nQ 39.546875 41.84375 41.421875 45.53125 \r\nQ 43.3125 49.21875 43.3125 52.78125 \r\nQ 43.3125 58.59375 39.234375 62.25 \r\nQ 35.15625 65.921875 28.609375 65.921875 \r\nQ 23.96875 65.921875 18.8125 64.3125 \r\nQ 13.671875 62.703125 7.8125 59.421875 \r\nL 7.8125 69.390625 \r\nQ 13.765625 71.78125 18.9375 73 \r\nQ 24.125 74.21875 28.421875 74.21875 \r\nQ 39.75 74.21875 46.484375 68.546875 \r\nQ 53.21875 62.890625 53.21875 53.421875 \r\nQ 53.21875 48.921875 51.53125 44.890625 \r\nQ 49.859375 40.875 45.40625 35.40625 \r\nQ 44.1875 33.984375 37.640625 27.21875 \r\nQ 31.109375 20.453125 19.1875 8.296875 \r\nz\r\n\" id=\"DejaVuSans-50\"/>\r\n      </defs>\r\n      <g transform=\"translate(129.101096 239.238438)scale(0.1 -0.1)\">\r\n       <use xlink:href=\"#DejaVuSans-50\"/>\r\n      </g>\r\n     </g>\r\n    </g>\r\n    <g id=\"xtick_4\">\r\n     <g id=\"line2d_4\">\r\n      <g>\r\n       <use style=\"stroke:#000000;stroke-width:0.8;\" x=\"175.762865\" xlink:href=\"#mf36f612103\" y=\"224.64\"/>\r\n      </g>\r\n     </g>\r\n     <g id=\"text_4\">\r\n      <!-- 3 -->\r\n      <defs>\r\n       <path d=\"M 40.578125 39.3125 \r\nQ 47.65625 37.796875 51.625 33 \r\nQ 55.609375 28.21875 55.609375 21.1875 \r\nQ 55.609375 10.40625 48.1875 4.484375 \r\nQ 40.765625 -1.421875 27.09375 -1.421875 \r\nQ 22.515625 -1.421875 17.65625 -0.515625 \r\nQ 12.796875 0.390625 7.625 2.203125 \r\nL 7.625 11.71875 \r\nQ 11.71875 9.328125 16.59375 8.109375 \r\nQ 21.484375 6.890625 26.8125 6.890625 \r\nQ 36.078125 6.890625 40.9375 10.546875 \r\nQ 45.796875 14.203125 45.796875 21.1875 \r\nQ 45.796875 27.640625 41.28125 31.265625 \r\nQ 36.765625 34.90625 28.71875 34.90625 \r\nL 20.21875 34.90625 \r\nL 20.21875 43.015625 \r\nL 29.109375 43.015625 \r\nQ 36.375 43.015625 40.234375 45.921875 \r\nQ 44.09375 48.828125 44.09375 54.296875 \r\nQ 44.09375 59.90625 40.109375 62.90625 \r\nQ 36.140625 65.921875 28.71875 65.921875 \r\nQ 24.65625 65.921875 20.015625 65.03125 \r\nQ 15.375 64.15625 9.8125 62.3125 \r\nL 9.8125 71.09375 \r\nQ 15.4375 72.65625 20.34375 73.4375 \r\nQ 25.25 74.21875 29.59375 74.21875 \r\nQ 40.828125 74.21875 47.359375 69.109375 \r\nQ 53.90625 64.015625 53.90625 55.328125 \r\nQ 53.90625 49.265625 50.4375 45.09375 \r\nQ 46.96875 40.921875 40.578125 39.3125 \r\nz\r\n\" id=\"DejaVuSans-51\"/>\r\n      </defs>\r\n      <g transform=\"translate(172.581615 239.238438)scale(0.1 -0.1)\">\r\n       <use xlink:href=\"#DejaVuSans-51\"/>\r\n      </g>\r\n     </g>\r\n    </g>\r\n    <g id=\"xtick_5\">\r\n     <g id=\"line2d_5\">\r\n      <g>\r\n       <use style=\"stroke:#000000;stroke-width:0.8;\" x=\"219.243385\" xlink:href=\"#mf36f612103\" y=\"224.64\"/>\r\n      </g>\r\n     </g>\r\n     <g id=\"text_5\">\r\n      <!-- 4 -->\r\n      <defs>\r\n       <path d=\"M 37.796875 64.3125 \r\nL 12.890625 25.390625 \r\nL 37.796875 25.390625 \r\nz\r\nM 35.203125 72.90625 \r\nL 47.609375 72.90625 \r\nL 47.609375 25.390625 \r\nL 58.015625 25.390625 \r\nL 58.015625 17.1875 \r\nL 47.609375 17.1875 \r\nL 47.609375 0 \r\nL 37.796875 0 \r\nL 37.796875 17.1875 \r\nL 4.890625 17.1875 \r\nL 4.890625 26.703125 \r\nz\r\n\" id=\"DejaVuSans-52\"/>\r\n      </defs>\r\n      <g transform=\"translate(216.062135 239.238438)scale(0.1 -0.1)\">\r\n       <use xlink:href=\"#DejaVuSans-52\"/>\r\n      </g>\r\n     </g>\r\n    </g>\r\n    <g id=\"xtick_6\">\r\n     <g id=\"line2d_6\">\r\n      <g>\r\n       <use style=\"stroke:#000000;stroke-width:0.8;\" x=\"262.723904\" xlink:href=\"#mf36f612103\" y=\"224.64\"/>\r\n      </g>\r\n     </g>\r\n     <g id=\"text_6\">\r\n      <!-- 5 -->\r\n      <defs>\r\n       <path d=\"M 10.796875 72.90625 \r\nL 49.515625 72.90625 \r\nL 49.515625 64.59375 \r\nL 19.828125 64.59375 \r\nL 19.828125 46.734375 \r\nQ 21.96875 47.46875 24.109375 47.828125 \r\nQ 26.265625 48.1875 28.421875 48.1875 \r\nQ 40.625 48.1875 47.75 41.5 \r\nQ 54.890625 34.8125 54.890625 23.390625 \r\nQ 54.890625 11.625 47.5625 5.09375 \r\nQ 40.234375 -1.421875 26.90625 -1.421875 \r\nQ 22.3125 -1.421875 17.546875 -0.640625 \r\nQ 12.796875 0.140625 7.71875 1.703125 \r\nL 7.71875 11.625 \r\nQ 12.109375 9.234375 16.796875 8.0625 \r\nQ 21.484375 6.890625 26.703125 6.890625 \r\nQ 35.15625 6.890625 40.078125 11.328125 \r\nQ 45.015625 15.765625 45.015625 23.390625 \r\nQ 45.015625 31 40.078125 35.4375 \r\nQ 35.15625 39.890625 26.703125 39.890625 \r\nQ 22.75 39.890625 18.8125 39.015625 \r\nQ 14.890625 38.140625 10.796875 36.28125 \r\nz\r\n\" id=\"DejaVuSans-53\"/>\r\n      </defs>\r\n      <g transform=\"translate(259.542654 239.238438)scale(0.1 -0.1)\">\r\n       <use xlink:href=\"#DejaVuSans-53\"/>\r\n      </g>\r\n     </g>\r\n    </g>\r\n    <g id=\"xtick_7\">\r\n     <g id=\"line2d_7\">\r\n      <g>\r\n       <use style=\"stroke:#000000;stroke-width:0.8;\" x=\"306.204424\" xlink:href=\"#mf36f612103\" y=\"224.64\"/>\r\n      </g>\r\n     </g>\r\n     <g id=\"text_7\">\r\n      <!-- 6 -->\r\n      <defs>\r\n       <path d=\"M 33.015625 40.375 \r\nQ 26.375 40.375 22.484375 35.828125 \r\nQ 18.609375 31.296875 18.609375 23.390625 \r\nQ 18.609375 15.53125 22.484375 10.953125 \r\nQ 26.375 6.390625 33.015625 6.390625 \r\nQ 39.65625 6.390625 43.53125 10.953125 \r\nQ 47.40625 15.53125 47.40625 23.390625 \r\nQ 47.40625 31.296875 43.53125 35.828125 \r\nQ 39.65625 40.375 33.015625 40.375 \r\nz\r\nM 52.59375 71.296875 \r\nL 52.59375 62.3125 \r\nQ 48.875 64.0625 45.09375 64.984375 \r\nQ 41.3125 65.921875 37.59375 65.921875 \r\nQ 27.828125 65.921875 22.671875 59.328125 \r\nQ 17.53125 52.734375 16.796875 39.40625 \r\nQ 19.671875 43.65625 24.015625 45.921875 \r\nQ 28.375 48.1875 33.59375 48.1875 \r\nQ 44.578125 48.1875 50.953125 41.515625 \r\nQ 57.328125 34.859375 57.328125 23.390625 \r\nQ 57.328125 12.15625 50.6875 5.359375 \r\nQ 44.046875 -1.421875 33.015625 -1.421875 \r\nQ 20.359375 -1.421875 13.671875 8.265625 \r\nQ 6.984375 17.96875 6.984375 36.375 \r\nQ 6.984375 53.65625 15.1875 63.9375 \r\nQ 23.390625 74.21875 37.203125 74.21875 \r\nQ 40.921875 74.21875 44.703125 73.484375 \r\nQ 48.484375 72.75 52.59375 71.296875 \r\nz\r\n\" id=\"DejaVuSans-54\"/>\r\n      </defs>\r\n      <g transform=\"translate(303.023174 239.238438)scale(0.1 -0.1)\">\r\n       <use xlink:href=\"#DejaVuSans-54\"/>\r\n      </g>\r\n     </g>\r\n    </g>\r\n    <g id=\"xtick_8\">\r\n     <g id=\"line2d_8\">\r\n      <g>\r\n       <use style=\"stroke:#000000;stroke-width:0.8;\" x=\"349.684943\" xlink:href=\"#mf36f612103\" y=\"224.64\"/>\r\n      </g>\r\n     </g>\r\n     <g id=\"text_8\">\r\n      <!-- 7 -->\r\n      <defs>\r\n       <path d=\"M 8.203125 72.90625 \r\nL 55.078125 72.90625 \r\nL 55.078125 68.703125 \r\nL 28.609375 0 \r\nL 18.3125 0 \r\nL 43.21875 64.59375 \r\nL 8.203125 64.59375 \r\nz\r\n\" id=\"DejaVuSans-55\"/>\r\n      </defs>\r\n      <g transform=\"translate(346.503693 239.238438)scale(0.1 -0.1)\">\r\n       <use xlink:href=\"#DejaVuSans-55\"/>\r\n      </g>\r\n     </g>\r\n    </g>\r\n   </g>\r\n   <g id=\"matplotlib.axis_2\">\r\n    <g id=\"ytick_1\">\r\n     <g id=\"line2d_9\">\r\n      <defs>\r\n       <path d=\"M 0 0 \r\nL -3.5 0 \r\n\" id=\"m92d7c7a1a0\" style=\"stroke:#000000;stroke-width:0.8;\"/>\r\n      </defs>\r\n      <g>\r\n       <use style=\"stroke:#000000;stroke-width:0.8;\" x=\"30.103125\" xlink:href=\"#m92d7c7a1a0\" y=\"199.866538\"/>\r\n      </g>\r\n     </g>\r\n     <g id=\"text_9\">\r\n      <!-- 0.3 -->\r\n      <defs>\r\n       <path d=\"M 10.6875 12.40625 \r\nL 21 12.40625 \r\nL 21 0 \r\nL 10.6875 0 \r\nz\r\n\" id=\"DejaVuSans-46\"/>\r\n      </defs>\r\n      <g transform=\"translate(7.2 203.665757)scale(0.1 -0.1)\">\r\n       <use xlink:href=\"#DejaVuSans-48\"/>\r\n       <use x=\"63.623047\" xlink:href=\"#DejaVuSans-46\"/>\r\n       <use x=\"95.410156\" xlink:href=\"#DejaVuSans-51\"/>\r\n      </g>\r\n     </g>\r\n    </g>\r\n    <g id=\"ytick_2\">\r\n     <g id=\"line2d_10\">\r\n      <g>\r\n       <use style=\"stroke:#000000;stroke-width:0.8;\" x=\"30.103125\" xlink:href=\"#m92d7c7a1a0\" y=\"173.754695\"/>\r\n      </g>\r\n     </g>\r\n     <g id=\"text_10\">\r\n      <!-- 0.4 -->\r\n      <g transform=\"translate(7.2 177.553914)scale(0.1 -0.1)\">\r\n       <use xlink:href=\"#DejaVuSans-48\"/>\r\n       <use x=\"63.623047\" xlink:href=\"#DejaVuSans-46\"/>\r\n       <use x=\"95.410156\" xlink:href=\"#DejaVuSans-52\"/>\r\n      </g>\r\n     </g>\r\n    </g>\r\n    <g id=\"ytick_3\">\r\n     <g id=\"line2d_11\">\r\n      <g>\r\n       <use style=\"stroke:#000000;stroke-width:0.8;\" x=\"30.103125\" xlink:href=\"#m92d7c7a1a0\" y=\"147.642852\"/>\r\n      </g>\r\n     </g>\r\n     <g id=\"text_11\">\r\n      <!-- 0.5 -->\r\n      <g transform=\"translate(7.2 151.442071)scale(0.1 -0.1)\">\r\n       <use xlink:href=\"#DejaVuSans-48\"/>\r\n       <use x=\"63.623047\" xlink:href=\"#DejaVuSans-46\"/>\r\n       <use x=\"95.410156\" xlink:href=\"#DejaVuSans-53\"/>\r\n      </g>\r\n     </g>\r\n    </g>\r\n    <g id=\"ytick_4\">\r\n     <g id=\"line2d_12\">\r\n      <g>\r\n       <use style=\"stroke:#000000;stroke-width:0.8;\" x=\"30.103125\" xlink:href=\"#m92d7c7a1a0\" y=\"121.531009\"/>\r\n      </g>\r\n     </g>\r\n     <g id=\"text_12\">\r\n      <!-- 0.6 -->\r\n      <g transform=\"translate(7.2 125.330228)scale(0.1 -0.1)\">\r\n       <use xlink:href=\"#DejaVuSans-48\"/>\r\n       <use x=\"63.623047\" xlink:href=\"#DejaVuSans-46\"/>\r\n       <use x=\"95.410156\" xlink:href=\"#DejaVuSans-54\"/>\r\n      </g>\r\n     </g>\r\n    </g>\r\n    <g id=\"ytick_5\">\r\n     <g id=\"line2d_13\">\r\n      <g>\r\n       <use style=\"stroke:#000000;stroke-width:0.8;\" x=\"30.103125\" xlink:href=\"#m92d7c7a1a0\" y=\"95.419166\"/>\r\n      </g>\r\n     </g>\r\n     <g id=\"text_13\">\r\n      <!-- 0.7 -->\r\n      <g transform=\"translate(7.2 99.218385)scale(0.1 -0.1)\">\r\n       <use xlink:href=\"#DejaVuSans-48\"/>\r\n       <use x=\"63.623047\" xlink:href=\"#DejaVuSans-46\"/>\r\n       <use x=\"95.410156\" xlink:href=\"#DejaVuSans-55\"/>\r\n      </g>\r\n     </g>\r\n    </g>\r\n    <g id=\"ytick_6\">\r\n     <g id=\"line2d_14\">\r\n      <g>\r\n       <use style=\"stroke:#000000;stroke-width:0.8;\" x=\"30.103125\" xlink:href=\"#m92d7c7a1a0\" y=\"69.307323\"/>\r\n      </g>\r\n     </g>\r\n     <g id=\"text_14\">\r\n      <!-- 0.8 -->\r\n      <defs>\r\n       <path d=\"M 31.78125 34.625 \r\nQ 24.75 34.625 20.71875 30.859375 \r\nQ 16.703125 27.09375 16.703125 20.515625 \r\nQ 16.703125 13.921875 20.71875 10.15625 \r\nQ 24.75 6.390625 31.78125 6.390625 \r\nQ 38.8125 6.390625 42.859375 10.171875 \r\nQ 46.921875 13.96875 46.921875 20.515625 \r\nQ 46.921875 27.09375 42.890625 30.859375 \r\nQ 38.875 34.625 31.78125 34.625 \r\nz\r\nM 21.921875 38.8125 \r\nQ 15.578125 40.375 12.03125 44.71875 \r\nQ 8.5 49.078125 8.5 55.328125 \r\nQ 8.5 64.0625 14.71875 69.140625 \r\nQ 20.953125 74.21875 31.78125 74.21875 \r\nQ 42.671875 74.21875 48.875 69.140625 \r\nQ 55.078125 64.0625 55.078125 55.328125 \r\nQ 55.078125 49.078125 51.53125 44.71875 \r\nQ 48 40.375 41.703125 38.8125 \r\nQ 48.828125 37.15625 52.796875 32.3125 \r\nQ 56.78125 27.484375 56.78125 20.515625 \r\nQ 56.78125 9.90625 50.3125 4.234375 \r\nQ 43.84375 -1.421875 31.78125 -1.421875 \r\nQ 19.734375 -1.421875 13.25 4.234375 \r\nQ 6.78125 9.90625 6.78125 20.515625 \r\nQ 6.78125 27.484375 10.78125 32.3125 \r\nQ 14.796875 37.15625 21.921875 38.8125 \r\nz\r\nM 18.3125 54.390625 \r\nQ 18.3125 48.734375 21.84375 45.5625 \r\nQ 25.390625 42.390625 31.78125 42.390625 \r\nQ 38.140625 42.390625 41.71875 45.5625 \r\nQ 45.3125 48.734375 45.3125 54.390625 \r\nQ 45.3125 60.0625 41.71875 63.234375 \r\nQ 38.140625 66.40625 31.78125 66.40625 \r\nQ 25.390625 66.40625 21.84375 63.234375 \r\nQ 18.3125 60.0625 18.3125 54.390625 \r\nz\r\n\" id=\"DejaVuSans-56\"/>\r\n      </defs>\r\n      <g transform=\"translate(7.2 73.106541)scale(0.1 -0.1)\">\r\n       <use xlink:href=\"#DejaVuSans-48\"/>\r\n       <use x=\"63.623047\" xlink:href=\"#DejaVuSans-46\"/>\r\n       <use x=\"95.410156\" xlink:href=\"#DejaVuSans-56\"/>\r\n      </g>\r\n     </g>\r\n    </g>\r\n    <g id=\"ytick_7\">\r\n     <g id=\"line2d_15\">\r\n      <g>\r\n       <use style=\"stroke:#000000;stroke-width:0.8;\" x=\"30.103125\" xlink:href=\"#m92d7c7a1a0\" y=\"43.19548\"/>\r\n      </g>\r\n     </g>\r\n     <g id=\"text_15\">\r\n      <!-- 0.9 -->\r\n      <defs>\r\n       <path d=\"M 10.984375 1.515625 \r\nL 10.984375 10.5 \r\nQ 14.703125 8.734375 18.5 7.8125 \r\nQ 22.3125 6.890625 25.984375 6.890625 \r\nQ 35.75 6.890625 40.890625 13.453125 \r\nQ 46.046875 20.015625 46.78125 33.40625 \r\nQ 43.953125 29.203125 39.59375 26.953125 \r\nQ 35.25 24.703125 29.984375 24.703125 \r\nQ 19.046875 24.703125 12.671875 31.3125 \r\nQ 6.296875 37.9375 6.296875 49.421875 \r\nQ 6.296875 60.640625 12.9375 67.421875 \r\nQ 19.578125 74.21875 30.609375 74.21875 \r\nQ 43.265625 74.21875 49.921875 64.515625 \r\nQ 56.59375 54.828125 56.59375 36.375 \r\nQ 56.59375 19.140625 48.40625 8.859375 \r\nQ 40.234375 -1.421875 26.421875 -1.421875 \r\nQ 22.703125 -1.421875 18.890625 -0.6875 \r\nQ 15.09375 0.046875 10.984375 1.515625 \r\nz\r\nM 30.609375 32.421875 \r\nQ 37.25 32.421875 41.125 36.953125 \r\nQ 45.015625 41.5 45.015625 49.421875 \r\nQ 45.015625 57.28125 41.125 61.84375 \r\nQ 37.25 66.40625 30.609375 66.40625 \r\nQ 23.96875 66.40625 20.09375 61.84375 \r\nQ 16.21875 57.28125 16.21875 49.421875 \r\nQ 16.21875 41.5 20.09375 36.953125 \r\nQ 23.96875 32.421875 30.609375 32.421875 \r\nz\r\n\" id=\"DejaVuSans-57\"/>\r\n      </defs>\r\n      <g transform=\"translate(7.2 46.994698)scale(0.1 -0.1)\">\r\n       <use xlink:href=\"#DejaVuSans-48\"/>\r\n       <use x=\"63.623047\" xlink:href=\"#DejaVuSans-46\"/>\r\n       <use x=\"95.410156\" xlink:href=\"#DejaVuSans-57\"/>\r\n      </g>\r\n     </g>\r\n    </g>\r\n    <g id=\"ytick_8\">\r\n     <g id=\"line2d_16\">\r\n      <g>\r\n       <use style=\"stroke:#000000;stroke-width:0.8;\" x=\"30.103125\" xlink:href=\"#m92d7c7a1a0\" y=\"17.083636\"/>\r\n      </g>\r\n     </g>\r\n     <g id=\"text_16\">\r\n      <!-- 1.0 -->\r\n      <g transform=\"translate(7.2 20.882855)scale(0.1 -0.1)\">\r\n       <use xlink:href=\"#DejaVuSans-49\"/>\r\n       <use x=\"63.623047\" xlink:href=\"#DejaVuSans-46\"/>\r\n       <use x=\"95.410156\" xlink:href=\"#DejaVuSans-48\"/>\r\n      </g>\r\n     </g>\r\n    </g>\r\n   </g>\r\n   <g id=\"line2d_17\">\r\n    <path clip-path=\"url(#p35ece51f0b)\" d=\"M 45.321307 214.756364 \r\nL 88.801826 167.639328 \r\nL 132.282346 131.995854 \r\nL 175.762865 98.065894 \r\nL 219.243385 69.195991 \r\nL 262.723904 47.517299 \r\nL 306.204424 29.438026 \r\nL 349.684943 17.083636 \r\n\" style=\"fill:none;stroke:#1f77b4;stroke-linecap:square;stroke-width:1.5;\"/>\r\n   </g>\r\n   <g id=\"line2d_18\">\r\n    <path clip-path=\"url(#p35ece51f0b)\" d=\"M 30.103125 43.19548 \r\nL 364.903125 43.19548 \r\n\" style=\"fill:none;stroke:#1f77b4;stroke-dasharray:9.6,2.4,1.5,2.4;stroke-dashoffset:0;stroke-width:1.5;\"/>\r\n   </g>\r\n   <g id=\"patch_3\">\r\n    <path d=\"M 30.103125 224.64 \r\nL 30.103125 7.2 \r\n\" style=\"fill:none;stroke:#000000;stroke-linecap:square;stroke-linejoin:miter;stroke-width:0.8;\"/>\r\n   </g>\r\n   <g id=\"patch_4\">\r\n    <path d=\"M 364.903125 224.64 \r\nL 364.903125 7.2 \r\n\" style=\"fill:none;stroke:#000000;stroke-linecap:square;stroke-linejoin:miter;stroke-width:0.8;\"/>\r\n   </g>\r\n   <g id=\"patch_5\">\r\n    <path d=\"M 30.103125 224.64 \r\nL 364.903125 224.64 \r\n\" style=\"fill:none;stroke:#000000;stroke-linecap:square;stroke-linejoin:miter;stroke-width:0.8;\"/>\r\n   </g>\r\n   <g id=\"patch_6\">\r\n    <path d=\"M 30.103125 7.2 \r\nL 364.903125 7.2 \r\n\" style=\"fill:none;stroke:#000000;stroke-linecap:square;stroke-linejoin:miter;stroke-width:0.8;\"/>\r\n   </g>\r\n  </g>\r\n </g>\r\n <defs>\r\n  <clipPath id=\"p35ece51f0b\">\r\n   <rect height=\"217.44\" width=\"334.8\" x=\"30.103125\" y=\"7.2\"/>\r\n  </clipPath>\r\n </defs>\r\n</svg>\r\n",
      "image/png": "[encoded data removed]"
     },
     "metadata": {
      "needs_background": "light"
     }
    }
   ],
   "source": [
    "fig, ax = plt.subplots()\n",
    "ax.plot(range(8), cum_exp_variance)\n",
    "ax.axhline(y=0.9, linestyle='-.')\n",
    "plt.show()\n",
    "\n",
    "# 7 components to explain all the variance"
   ]
  },
  {
   "cell_type": "code",
   "execution_count": 23,
   "metadata": {},
   "outputs": [
    {
     "output_type": "execute_result",
     "data": {
      "text/plain": [
       "(4802, 7)"
      ]
     },
     "metadata": {},
     "execution_count": 23
    }
   ],
   "source": [
    "n_components = 7\n",
    "\n",
    "pca = PCA(n_components, random_state=10)\n",
    "pca.fit(scaled_train_features)\n",
    "pca_proj = pca.transform(scaled_train_features)\n",
    "pca_proj.shape"
   ]
  },
  {
   "cell_type": "code",
   "execution_count": 24,
   "metadata": {},
   "outputs": [],
   "source": [
    "# using a decision tree classifier\n",
    "from sklearn.model_selection import train_test_split\n",
    "\n",
    "# splitting the data\n",
    "train_features, test_features, train_labels, test_labels = train_test_split(pca_proj, labels, stratify=labels)"
   ]
  },
  {
   "cell_type": "code",
   "execution_count": 26,
   "metadata": {},
   "outputs": [
    {
     "output_type": "execute_result",
     "data": {
      "text/plain": [
       "0.8567860116569526"
      ]
     },
     "metadata": {},
     "execution_count": 26
    }
   ],
   "source": [
    "from sklearn.tree import DecisionTreeClassifier\n",
    "tree = DecisionTreeClassifier(random_state=10)\n",
    "tree.fit(train_features, train_labels)\n",
    "\n",
    "pred_labels_tree = tree.predict(test_features)\n",
    "from sklearn.metrics import accuracy_score\n",
    "accuracy_score(test_labels, pred_labels_tree)"
   ]
  },
  {
   "cell_type": "code",
   "execution_count": 28,
   "metadata": {},
   "outputs": [
    {
     "output_type": "execute_result",
     "data": {
      "text/plain": [
       "array([[158,  70],\n",
       "       [102, 871]], dtype=int64)"
      ]
     },
     "metadata": {},
     "execution_count": 28
    }
   ],
   "source": [
    "labels.value_counts()\n",
    "\n",
    "# a lot more songs labelled rocks, so dataset is imbalanced. accuracy is not a good metric to evaluate model\n",
    "# using confusion matrix\n",
    "\n",
    "from sklearn.metrics import confusion_matrix\n",
    "confusion_matrix(test_labels, pred_labels_tree)"
   ]
  },
  {
   "cell_type": "code",
   "execution_count": 33,
   "metadata": {},
   "outputs": [
    {
     "output_type": "stream",
     "name": "stdout",
     "text": [
      "0.8975853455453788\n"
     ]
    },
    {
     "output_type": "execute_result",
     "data": {
      "text/plain": [
       "array([[142,  86],\n",
       "       [ 37, 936]], dtype=int64)"
      ]
     },
     "metadata": {},
     "execution_count": 33
    }
   ],
   "source": [
    "# using logistic regression\n",
    "from sklearn.linear_model import LogisticRegression\n",
    "\n",
    "# train log-reg model\n",
    "logreg = LogisticRegression(random_state=10)\n",
    "logreg.fit(train_features, train_labels)\n",
    "pred_labels_logit = logreg.predict(test_features)\n",
    "\n",
    "print(accuracy_score(test_labels, pred_labels_logit))\n",
    "confusion_matrix(test_labels, pred_labels_logit)"
   ]
  },
  {
   "cell_type": "code",
   "execution_count": 38,
   "metadata": {},
   "outputs": [
    {
     "output_type": "stream",
     "name": "stdout",
     "text": [
      "Decision Tree: \n              precision    recall  f1-score   support\n\n     Hip-Hop       0.61      0.69      0.65       228\n        Rock       0.93      0.90      0.91       973\n\n    accuracy                           0.86      1201\n   macro avg       0.77      0.79      0.78      1201\nweighted avg       0.87      0.86      0.86      1201\n\nLogistic Regression: \n              precision    recall  f1-score   support\n\n     Hip-Hop       0.79      0.62      0.70       228\n        Rock       0.92      0.96      0.94       973\n\n    accuracy                           0.90      1201\n   macro avg       0.85      0.79      0.82      1201\nweighted avg       0.89      0.90      0.89      1201\n\n"
     ]
    }
   ],
   "source": [
    "# generate classification report\n",
    "from sklearn.metrics import classification_report\n",
    "class_rep_tree = classification_report(test_labels, pred_labels_tree)\n",
    "class_rep_logit = classification_report(test_labels, pred_labels_logit)\n",
    "print('Decision Tree: \\n' + class_rep_tree)\n",
    "print('Logistic Regression: \\n' + class_rep_logit)"
   ]
  },
  {
   "cell_type": "code",
   "execution_count": 44,
   "metadata": {},
   "outputs": [],
   "source": [
    "# Data is heavily imbalanced, with more rock songs than hip-hop songs\n",
    "# need to resample using SMOTE (Synthetic Minority Oversampling Technique)\n",
    "from imblearn.over_sampling import SMOTE\n",
    "\n",
    "sm = SMOTE(random_state=10)\n",
    "x_resampled, y_resampled = sm.fit_sample(pca_proj, labels)"
   ]
  }
 ],
 "metadata": {
  "kernelspec": {
   "display_name": "Python 3",
   "language": "python",
   "name": "python3"
  },
  "language_info": {
   "codemirror_mode": {
    "name": "ipython",
    "version": 3
   },
   "file_extension": ".py",
   "mimetype": "text/x-python",
   "name": "python",
   "nbconvert_exporter": "python",
   "pygments_lexer": "ipython3",
   "version": "3.8.3-final"
  },
  "toc": {
   "base_numbering": 1,
   "nav_menu": {},
   "number_sections": true,
   "sideBar": true,
   "skip_h1_title": false,
   "title_cell": "Table of Contents",
   "title_sidebar": "Contents",
   "toc_cell": false,
   "toc_position": {},
   "toc_section_display": true,
   "toc_window_display": false
  },
  "varInspector": {
   "cols": {
    "lenName": 16,
    "lenType": 16,
    "lenVar": 40
   },
   "kernels_config": {
    "python": {
     "delete_cmd_postfix": "",
     "delete_cmd_prefix": "del ",
     "library": "var_list.py",
     "varRefreshCmd": "print(var_dic_list())"
    },
    "r": {
     "delete_cmd_postfix": ") ",
     "delete_cmd_prefix": "rm(",
     "library": "var_list.r",
     "varRefreshCmd": "cat(var_dic_list()) "
    }
   },
   "types_to_exclude": [
    "module",
    "function",
    "builtin_function_or_method",
    "instance",
    "_Feature"
   ],
   "window_display": false
  }
 },
 "nbformat": 4,
 "nbformat_minor": 2
}